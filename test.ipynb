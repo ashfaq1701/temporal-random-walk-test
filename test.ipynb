{
 "cells": [
  {
   "cell_type": "code",
   "id": "initial_id",
   "metadata": {
    "collapsed": true,
    "ExecuteTime": {
     "end_time": "2025-06-10T23:41:07.504934Z",
     "start_time": "2025-06-10T23:41:07.502319Z"
    }
   },
   "source": [
    "import os.path\n",
    "\n",
    "file_path = '/Volumes/EXTERNALHDD/traces_disk_2/final_data_files/data_1.parquet'"
   ],
   "outputs": [],
   "execution_count": 2
  },
  {
   "metadata": {
    "ExecuteTime": {
     "end_time": "2025-06-10T23:41:08.963609Z",
     "start_time": "2025-06-10T23:41:07.519786Z"
    }
   },
   "cell_type": "code",
   "source": [
    "import pandas as pd\n",
    "\n",
    "edges_df = pd.read_parquet(file_path)"
   ],
   "id": "97c854b0c6f08ba7",
   "outputs": [
    {
     "ename": "FileNotFoundError",
     "evalue": "[Errno 2] No such file or directory: '/Volumes/EXTERNALHDD/traces_disk_2/final_data_files/data_1.parquet'",
     "output_type": "error",
     "traceback": [
      "\u001B[0;31m---------------------------------------------------------------------------\u001B[0m",
      "\u001B[0;31mFileNotFoundError\u001B[0m                         Traceback (most recent call last)",
      "Cell \u001B[0;32mIn[3], line 3\u001B[0m\n\u001B[1;32m      1\u001B[0m \u001B[38;5;28;01mimport\u001B[39;00m\u001B[38;5;250m \u001B[39m\u001B[38;5;21;01mpandas\u001B[39;00m\u001B[38;5;250m \u001B[39m\u001B[38;5;28;01mas\u001B[39;00m\u001B[38;5;250m \u001B[39m\u001B[38;5;21;01mpd\u001B[39;00m\n\u001B[0;32m----> 3\u001B[0m edges_df \u001B[38;5;241m=\u001B[39m \u001B[43mpd\u001B[49m\u001B[38;5;241;43m.\u001B[39;49m\u001B[43mread_parquet\u001B[49m\u001B[43m(\u001B[49m\u001B[43mfile_path\u001B[49m\u001B[43m)\u001B[49m\n",
      "File \u001B[0;32m~/PycharmProjects/temporal-random-walk-test/.venv/lib/python3.10/site-packages/pandas/io/parquet.py:667\u001B[0m, in \u001B[0;36mread_parquet\u001B[0;34m(path, engine, columns, storage_options, use_nullable_dtypes, dtype_backend, filesystem, filters, **kwargs)\u001B[0m\n\u001B[1;32m    664\u001B[0m     use_nullable_dtypes \u001B[38;5;241m=\u001B[39m \u001B[38;5;28;01mFalse\u001B[39;00m\n\u001B[1;32m    665\u001B[0m check_dtype_backend(dtype_backend)\n\u001B[0;32m--> 667\u001B[0m \u001B[38;5;28;01mreturn\u001B[39;00m \u001B[43mimpl\u001B[49m\u001B[38;5;241;43m.\u001B[39;49m\u001B[43mread\u001B[49m\u001B[43m(\u001B[49m\n\u001B[1;32m    668\u001B[0m \u001B[43m    \u001B[49m\u001B[43mpath\u001B[49m\u001B[43m,\u001B[49m\n\u001B[1;32m    669\u001B[0m \u001B[43m    \u001B[49m\u001B[43mcolumns\u001B[49m\u001B[38;5;241;43m=\u001B[39;49m\u001B[43mcolumns\u001B[49m\u001B[43m,\u001B[49m\n\u001B[1;32m    670\u001B[0m \u001B[43m    \u001B[49m\u001B[43mfilters\u001B[49m\u001B[38;5;241;43m=\u001B[39;49m\u001B[43mfilters\u001B[49m\u001B[43m,\u001B[49m\n\u001B[1;32m    671\u001B[0m \u001B[43m    \u001B[49m\u001B[43mstorage_options\u001B[49m\u001B[38;5;241;43m=\u001B[39;49m\u001B[43mstorage_options\u001B[49m\u001B[43m,\u001B[49m\n\u001B[1;32m    672\u001B[0m \u001B[43m    \u001B[49m\u001B[43muse_nullable_dtypes\u001B[49m\u001B[38;5;241;43m=\u001B[39;49m\u001B[43muse_nullable_dtypes\u001B[49m\u001B[43m,\u001B[49m\n\u001B[1;32m    673\u001B[0m \u001B[43m    \u001B[49m\u001B[43mdtype_backend\u001B[49m\u001B[38;5;241;43m=\u001B[39;49m\u001B[43mdtype_backend\u001B[49m\u001B[43m,\u001B[49m\n\u001B[1;32m    674\u001B[0m \u001B[43m    \u001B[49m\u001B[43mfilesystem\u001B[49m\u001B[38;5;241;43m=\u001B[39;49m\u001B[43mfilesystem\u001B[49m\u001B[43m,\u001B[49m\n\u001B[1;32m    675\u001B[0m \u001B[43m    \u001B[49m\u001B[38;5;241;43m*\u001B[39;49m\u001B[38;5;241;43m*\u001B[39;49m\u001B[43mkwargs\u001B[49m\u001B[43m,\u001B[49m\n\u001B[1;32m    676\u001B[0m \u001B[43m\u001B[49m\u001B[43m)\u001B[49m\n",
      "File \u001B[0;32m~/PycharmProjects/temporal-random-walk-test/.venv/lib/python3.10/site-packages/pandas/io/parquet.py:267\u001B[0m, in \u001B[0;36mPyArrowImpl.read\u001B[0;34m(self, path, columns, filters, use_nullable_dtypes, dtype_backend, storage_options, filesystem, **kwargs)\u001B[0m\n\u001B[1;32m    264\u001B[0m \u001B[38;5;28;01mif\u001B[39;00m manager \u001B[38;5;241m==\u001B[39m \u001B[38;5;124m\"\u001B[39m\u001B[38;5;124marray\u001B[39m\u001B[38;5;124m\"\u001B[39m:\n\u001B[1;32m    265\u001B[0m     to_pandas_kwargs[\u001B[38;5;124m\"\u001B[39m\u001B[38;5;124msplit_blocks\u001B[39m\u001B[38;5;124m\"\u001B[39m] \u001B[38;5;241m=\u001B[39m \u001B[38;5;28;01mTrue\u001B[39;00m  \u001B[38;5;66;03m# type: ignore[assignment]\u001B[39;00m\n\u001B[0;32m--> 267\u001B[0m path_or_handle, handles, filesystem \u001B[38;5;241m=\u001B[39m \u001B[43m_get_path_or_handle\u001B[49m\u001B[43m(\u001B[49m\n\u001B[1;32m    268\u001B[0m \u001B[43m    \u001B[49m\u001B[43mpath\u001B[49m\u001B[43m,\u001B[49m\n\u001B[1;32m    269\u001B[0m \u001B[43m    \u001B[49m\u001B[43mfilesystem\u001B[49m\u001B[43m,\u001B[49m\n\u001B[1;32m    270\u001B[0m \u001B[43m    \u001B[49m\u001B[43mstorage_options\u001B[49m\u001B[38;5;241;43m=\u001B[39;49m\u001B[43mstorage_options\u001B[49m\u001B[43m,\u001B[49m\n\u001B[1;32m    271\u001B[0m \u001B[43m    \u001B[49m\u001B[43mmode\u001B[49m\u001B[38;5;241;43m=\u001B[39;49m\u001B[38;5;124;43m\"\u001B[39;49m\u001B[38;5;124;43mrb\u001B[39;49m\u001B[38;5;124;43m\"\u001B[39;49m\u001B[43m,\u001B[49m\n\u001B[1;32m    272\u001B[0m \u001B[43m\u001B[49m\u001B[43m)\u001B[49m\n\u001B[1;32m    273\u001B[0m \u001B[38;5;28;01mtry\u001B[39;00m:\n\u001B[1;32m    274\u001B[0m     pa_table \u001B[38;5;241m=\u001B[39m \u001B[38;5;28mself\u001B[39m\u001B[38;5;241m.\u001B[39mapi\u001B[38;5;241m.\u001B[39mparquet\u001B[38;5;241m.\u001B[39mread_table(\n\u001B[1;32m    275\u001B[0m         path_or_handle,\n\u001B[1;32m    276\u001B[0m         columns\u001B[38;5;241m=\u001B[39mcolumns,\n\u001B[0;32m   (...)\u001B[0m\n\u001B[1;32m    279\u001B[0m         \u001B[38;5;241m*\u001B[39m\u001B[38;5;241m*\u001B[39mkwargs,\n\u001B[1;32m    280\u001B[0m     )\n",
      "File \u001B[0;32m~/PycharmProjects/temporal-random-walk-test/.venv/lib/python3.10/site-packages/pandas/io/parquet.py:140\u001B[0m, in \u001B[0;36m_get_path_or_handle\u001B[0;34m(path, fs, storage_options, mode, is_dir)\u001B[0m\n\u001B[1;32m    130\u001B[0m handles \u001B[38;5;241m=\u001B[39m \u001B[38;5;28;01mNone\u001B[39;00m\n\u001B[1;32m    131\u001B[0m \u001B[38;5;28;01mif\u001B[39;00m (\n\u001B[1;32m    132\u001B[0m     \u001B[38;5;129;01mnot\u001B[39;00m fs\n\u001B[1;32m    133\u001B[0m     \u001B[38;5;129;01mand\u001B[39;00m \u001B[38;5;129;01mnot\u001B[39;00m is_dir\n\u001B[0;32m   (...)\u001B[0m\n\u001B[1;32m    138\u001B[0m     \u001B[38;5;66;03m# fsspec resources can also point to directories\u001B[39;00m\n\u001B[1;32m    139\u001B[0m     \u001B[38;5;66;03m# this branch is used for example when reading from non-fsspec URLs\u001B[39;00m\n\u001B[0;32m--> 140\u001B[0m     handles \u001B[38;5;241m=\u001B[39m \u001B[43mget_handle\u001B[49m\u001B[43m(\u001B[49m\n\u001B[1;32m    141\u001B[0m \u001B[43m        \u001B[49m\u001B[43mpath_or_handle\u001B[49m\u001B[43m,\u001B[49m\u001B[43m \u001B[49m\u001B[43mmode\u001B[49m\u001B[43m,\u001B[49m\u001B[43m \u001B[49m\u001B[43mis_text\u001B[49m\u001B[38;5;241;43m=\u001B[39;49m\u001B[38;5;28;43;01mFalse\u001B[39;49;00m\u001B[43m,\u001B[49m\u001B[43m \u001B[49m\u001B[43mstorage_options\u001B[49m\u001B[38;5;241;43m=\u001B[39;49m\u001B[43mstorage_options\u001B[49m\n\u001B[1;32m    142\u001B[0m \u001B[43m    \u001B[49m\u001B[43m)\u001B[49m\n\u001B[1;32m    143\u001B[0m     fs \u001B[38;5;241m=\u001B[39m \u001B[38;5;28;01mNone\u001B[39;00m\n\u001B[1;32m    144\u001B[0m     path_or_handle \u001B[38;5;241m=\u001B[39m handles\u001B[38;5;241m.\u001B[39mhandle\n",
      "File \u001B[0;32m~/PycharmProjects/temporal-random-walk-test/.venv/lib/python3.10/site-packages/pandas/io/common.py:882\u001B[0m, in \u001B[0;36mget_handle\u001B[0;34m(path_or_buf, mode, encoding, compression, memory_map, is_text, errors, storage_options)\u001B[0m\n\u001B[1;32m    873\u001B[0m         handle \u001B[38;5;241m=\u001B[39m \u001B[38;5;28mopen\u001B[39m(\n\u001B[1;32m    874\u001B[0m             handle,\n\u001B[1;32m    875\u001B[0m             ioargs\u001B[38;5;241m.\u001B[39mmode,\n\u001B[0;32m   (...)\u001B[0m\n\u001B[1;32m    878\u001B[0m             newline\u001B[38;5;241m=\u001B[39m\u001B[38;5;124m\"\u001B[39m\u001B[38;5;124m\"\u001B[39m,\n\u001B[1;32m    879\u001B[0m         )\n\u001B[1;32m    880\u001B[0m     \u001B[38;5;28;01melse\u001B[39;00m:\n\u001B[1;32m    881\u001B[0m         \u001B[38;5;66;03m# Binary mode\u001B[39;00m\n\u001B[0;32m--> 882\u001B[0m         handle \u001B[38;5;241m=\u001B[39m \u001B[38;5;28;43mopen\u001B[39;49m\u001B[43m(\u001B[49m\u001B[43mhandle\u001B[49m\u001B[43m,\u001B[49m\u001B[43m \u001B[49m\u001B[43mioargs\u001B[49m\u001B[38;5;241;43m.\u001B[39;49m\u001B[43mmode\u001B[49m\u001B[43m)\u001B[49m\n\u001B[1;32m    883\u001B[0m     handles\u001B[38;5;241m.\u001B[39mappend(handle)\n\u001B[1;32m    885\u001B[0m \u001B[38;5;66;03m# Convert BytesIO or file objects passed with an encoding\u001B[39;00m\n",
      "\u001B[0;31mFileNotFoundError\u001B[0m: [Errno 2] No such file or directory: '/Volumes/EXTERNALHDD/traces_disk_2/final_data_files/data_1.parquet'"
     ]
    }
   ],
   "execution_count": 3
  },
  {
   "metadata": {
    "ExecuteTime": {
     "end_time": "2025-06-10T23:41:08.968379Z",
     "start_time": "2025-05-08T01:13:16.475312Z"
    }
   },
   "cell_type": "code",
   "source": "edges_df",
   "id": "6e07baa8684fa896",
   "outputs": [
    {
     "data": {
      "text/plain": [
       "             u      i      ts      idx   rt    0    1    2    3    4\n",
       "3797497  17684  18738   60000  3797498  1.0  0.0  0.0  1.0  0.0  0.0\n",
       "3797498  35482  19355   60000  3797499  0.0  0.0  0.0  0.0  0.0  1.0\n",
       "3797499  18679  59226   60000  3797500  1.0  0.0  0.0  1.0  0.0  0.0\n",
       "3797500  33545  14046   60000  3797501  0.0  0.0  0.0  1.0  0.0  0.0\n",
       "3797501    969  17869   60000  3797502  0.0  1.0  0.0  0.0  0.0  0.0\n",
       "...        ...    ...     ...      ...  ...  ...  ...  ...  ...  ...\n",
       "7393462  10077  35136  119999  7393463  0.0  0.0  0.0  1.0  0.0  0.0\n",
       "7393463  44631  44354  119999  7393464  1.0  0.0  0.0  0.0  0.0  1.0\n",
       "7393464  37176  37400  119999  7393465  1.0  0.0  0.0  1.0  0.0  0.0\n",
       "7393465  37106  22350  119999  7393466  0.0  1.0  0.0  0.0  0.0  0.0\n",
       "7393466  37106  17869  119999  7393467  0.0  1.0  0.0  0.0  0.0  0.0\n",
       "\n",
       "[3595970 rows x 10 columns]"
      ],
      "text/html": [
       "<div>\n",
       "<style scoped>\n",
       "    .dataframe tbody tr th:only-of-type {\n",
       "        vertical-align: middle;\n",
       "    }\n",
       "\n",
       "    .dataframe tbody tr th {\n",
       "        vertical-align: top;\n",
       "    }\n",
       "\n",
       "    .dataframe thead th {\n",
       "        text-align: right;\n",
       "    }\n",
       "</style>\n",
       "<table border=\"1\" class=\"dataframe\">\n",
       "  <thead>\n",
       "    <tr style=\"text-align: right;\">\n",
       "      <th></th>\n",
       "      <th>u</th>\n",
       "      <th>i</th>\n",
       "      <th>ts</th>\n",
       "      <th>idx</th>\n",
       "      <th>rt</th>\n",
       "      <th>0</th>\n",
       "      <th>1</th>\n",
       "      <th>2</th>\n",
       "      <th>3</th>\n",
       "      <th>4</th>\n",
       "    </tr>\n",
       "  </thead>\n",
       "  <tbody>\n",
       "    <tr>\n",
       "      <th>3797497</th>\n",
       "      <td>17684</td>\n",
       "      <td>18738</td>\n",
       "      <td>60000</td>\n",
       "      <td>3797498</td>\n",
       "      <td>1.0</td>\n",
       "      <td>0.0</td>\n",
       "      <td>0.0</td>\n",
       "      <td>1.0</td>\n",
       "      <td>0.0</td>\n",
       "      <td>0.0</td>\n",
       "    </tr>\n",
       "    <tr>\n",
       "      <th>3797498</th>\n",
       "      <td>35482</td>\n",
       "      <td>19355</td>\n",
       "      <td>60000</td>\n",
       "      <td>3797499</td>\n",
       "      <td>0.0</td>\n",
       "      <td>0.0</td>\n",
       "      <td>0.0</td>\n",
       "      <td>0.0</td>\n",
       "      <td>0.0</td>\n",
       "      <td>1.0</td>\n",
       "    </tr>\n",
       "    <tr>\n",
       "      <th>3797499</th>\n",
       "      <td>18679</td>\n",
       "      <td>59226</td>\n",
       "      <td>60000</td>\n",
       "      <td>3797500</td>\n",
       "      <td>1.0</td>\n",
       "      <td>0.0</td>\n",
       "      <td>0.0</td>\n",
       "      <td>1.0</td>\n",
       "      <td>0.0</td>\n",
       "      <td>0.0</td>\n",
       "    </tr>\n",
       "    <tr>\n",
       "      <th>3797500</th>\n",
       "      <td>33545</td>\n",
       "      <td>14046</td>\n",
       "      <td>60000</td>\n",
       "      <td>3797501</td>\n",
       "      <td>0.0</td>\n",
       "      <td>0.0</td>\n",
       "      <td>0.0</td>\n",
       "      <td>1.0</td>\n",
       "      <td>0.0</td>\n",
       "      <td>0.0</td>\n",
       "    </tr>\n",
       "    <tr>\n",
       "      <th>3797501</th>\n",
       "      <td>969</td>\n",
       "      <td>17869</td>\n",
       "      <td>60000</td>\n",
       "      <td>3797502</td>\n",
       "      <td>0.0</td>\n",
       "      <td>1.0</td>\n",
       "      <td>0.0</td>\n",
       "      <td>0.0</td>\n",
       "      <td>0.0</td>\n",
       "      <td>0.0</td>\n",
       "    </tr>\n",
       "    <tr>\n",
       "      <th>...</th>\n",
       "      <td>...</td>\n",
       "      <td>...</td>\n",
       "      <td>...</td>\n",
       "      <td>...</td>\n",
       "      <td>...</td>\n",
       "      <td>...</td>\n",
       "      <td>...</td>\n",
       "      <td>...</td>\n",
       "      <td>...</td>\n",
       "      <td>...</td>\n",
       "    </tr>\n",
       "    <tr>\n",
       "      <th>7393462</th>\n",
       "      <td>10077</td>\n",
       "      <td>35136</td>\n",
       "      <td>119999</td>\n",
       "      <td>7393463</td>\n",
       "      <td>0.0</td>\n",
       "      <td>0.0</td>\n",
       "      <td>0.0</td>\n",
       "      <td>1.0</td>\n",
       "      <td>0.0</td>\n",
       "      <td>0.0</td>\n",
       "    </tr>\n",
       "    <tr>\n",
       "      <th>7393463</th>\n",
       "      <td>44631</td>\n",
       "      <td>44354</td>\n",
       "      <td>119999</td>\n",
       "      <td>7393464</td>\n",
       "      <td>1.0</td>\n",
       "      <td>0.0</td>\n",
       "      <td>0.0</td>\n",
       "      <td>0.0</td>\n",
       "      <td>0.0</td>\n",
       "      <td>1.0</td>\n",
       "    </tr>\n",
       "    <tr>\n",
       "      <th>7393464</th>\n",
       "      <td>37176</td>\n",
       "      <td>37400</td>\n",
       "      <td>119999</td>\n",
       "      <td>7393465</td>\n",
       "      <td>1.0</td>\n",
       "      <td>0.0</td>\n",
       "      <td>0.0</td>\n",
       "      <td>1.0</td>\n",
       "      <td>0.0</td>\n",
       "      <td>0.0</td>\n",
       "    </tr>\n",
       "    <tr>\n",
       "      <th>7393465</th>\n",
       "      <td>37106</td>\n",
       "      <td>22350</td>\n",
       "      <td>119999</td>\n",
       "      <td>7393466</td>\n",
       "      <td>0.0</td>\n",
       "      <td>1.0</td>\n",
       "      <td>0.0</td>\n",
       "      <td>0.0</td>\n",
       "      <td>0.0</td>\n",
       "      <td>0.0</td>\n",
       "    </tr>\n",
       "    <tr>\n",
       "      <th>7393466</th>\n",
       "      <td>37106</td>\n",
       "      <td>17869</td>\n",
       "      <td>119999</td>\n",
       "      <td>7393467</td>\n",
       "      <td>0.0</td>\n",
       "      <td>1.0</td>\n",
       "      <td>0.0</td>\n",
       "      <td>0.0</td>\n",
       "      <td>0.0</td>\n",
       "      <td>0.0</td>\n",
       "    </tr>\n",
       "  </tbody>\n",
       "</table>\n",
       "<p>3595970 rows × 10 columns</p>\n",
       "</div>"
      ]
     },
     "execution_count": 19,
     "metadata": {},
     "output_type": "execute_result"
    }
   ],
   "execution_count": 19
  },
  {
   "metadata": {
    "ExecuteTime": {
     "end_time": "2025-06-10T23:41:08.977132Z",
     "start_time": "2025-05-08T01:13:16.508831Z"
    }
   },
   "cell_type": "code",
   "source": "u, i, ts = edges_df['u'].to_numpy(), edges_df['i'].to_numpy(), edges_df['ts'].to_numpy()",
   "id": "cb8afea5a00c12ba",
   "outputs": [],
   "execution_count": 20
  },
  {
   "metadata": {
    "ExecuteTime": {
     "end_time": "2025-06-10T23:41:08.978694Z",
     "start_time": "2025-05-08T01:13:16.537833Z"
    }
   },
   "cell_type": "code",
   "source": [
    "from temporal_random_walk import TemporalRandomWalk\n",
    "\n",
    "temporal_random_walk = TemporalRandomWalk(is_directed=True, use_gpu=False)"
   ],
   "id": "e32de9bb9b3adff2",
   "outputs": [],
   "execution_count": 21
  },
  {
   "metadata": {
    "ExecuteTime": {
     "end_time": "2025-06-10T23:41:08.981783Z",
     "start_time": "2025-05-08T01:13:16.548049Z"
    }
   },
   "cell_type": "code",
   "source": [
    "from raphtory import Graph\n",
    "g = Graph()"
   ],
   "id": "fdc5559673d43c0f",
   "outputs": [],
   "execution_count": 22
  },
  {
   "metadata": {
    "ExecuteTime": {
     "end_time": "2025-06-10T23:41:08.981998Z",
     "start_time": "2025-05-08T01:13:16.752976Z"
    }
   },
   "cell_type": "code",
   "source": [
    "g.load_edges_from_pandas(\n",
    "    df=edges_df,\n",
    "    time=\"ts\",\n",
    "    src=\"u\",\n",
    "    dst=\"i\"\n",
    ")"
   ],
   "id": "bcd22c23b6135e47",
   "outputs": [
    {
     "data": {
      "text/plain": [
       "HBox(children=(HTML(value=''), IntProgress(value=0, max=3595970), HTML(value='')))"
      ],
      "application/vnd.jupyter.widget-view+json": {
       "version_major": 2,
       "version_minor": 0,
       "model_id": "c044a116cdf3403590908607f309cc4e"
      }
     },
     "metadata": {},
     "output_type": "display_data"
    }
   ],
   "execution_count": 23
  },
  {
   "metadata": {
    "ExecuteTime": {
     "end_time": "2025-06-10T23:41:08.982364Z",
     "start_time": "2025-05-08T01:13:17.156962Z"
    }
   },
   "cell_type": "code",
   "source": "temporal_random_walk.add_multiple_edges(u, i, ts)",
   "id": "b85da791bf028d13",
   "outputs": [],
   "execution_count": 24
  },
  {
   "metadata": {
    "ExecuteTime": {
     "end_time": "2025-06-10T23:41:08.982711Z",
     "start_time": "2025-05-14T14:37:27.278084Z"
    }
   },
   "cell_type": "code",
   "source": [
    "import pandas as pd\n",
    "\n",
    "df = pd.read_parquet('/Volumes/EXTERNALHDD/traces_disk_2/final_data_files/data_100.parquet')"
   ],
   "id": "f8d12d8bb3724cbb",
   "outputs": [],
   "execution_count": 26
  },
  {
   "metadata": {
    "ExecuteTime": {
     "end_time": "2025-06-10T23:41:08.982991Z",
     "start_time": "2025-05-14T14:43:53.162808Z"
    }
   },
   "cell_type": "code",
   "source": "df",
   "id": "f725f629776dfa33",
   "outputs": [
    {
     "data": {
      "text/plain": [
       "               u      i       ts        idx   rt    0    1    2    3    4\n",
       "335204989  14938  14938  6000000  335204990  3.0  0.0  0.0  0.0  0.0  1.0\n",
       "335204990  16284  17932  6000000  335204991  0.0  0.0  0.0  1.0  0.0  0.0\n",
       "335204991  43759  28205  6000000  335204992  1.0  0.0  0.0  1.0  0.0  0.0\n",
       "335204992  66999  66999  6000000  335204993  NaN  0.0  0.0  1.0  0.0  0.0\n",
       "335204993   5870   2402  6000000  335204994  0.0  0.0  0.0  1.0  0.0  0.0\n",
       "...          ...    ...      ...        ...  ...  ...  ...  ...  ...  ...\n",
       "338246044  28012  37927  6059999  338246045  1.0  1.0  0.0  0.0  0.0  0.0\n",
       "338246045  51804  20354  6059999  338246046  0.0  0.0  0.0  0.0  1.0  0.0\n",
       "338246046  32740  32740  6059999  338246047  0.0  0.0  0.0  0.0  0.0  1.0\n",
       "338246047  67001  31913  6059999  338246048  6.0  0.0  1.0  0.0  0.0  0.0\n",
       "338246048  41645  45719  6059999  338246049  0.0  0.0  0.0  1.0  0.0  0.0\n",
       "\n",
       "[3041060 rows x 10 columns]"
      ],
      "text/html": [
       "<div>\n",
       "<style scoped>\n",
       "    .dataframe tbody tr th:only-of-type {\n",
       "        vertical-align: middle;\n",
       "    }\n",
       "\n",
       "    .dataframe tbody tr th {\n",
       "        vertical-align: top;\n",
       "    }\n",
       "\n",
       "    .dataframe thead th {\n",
       "        text-align: right;\n",
       "    }\n",
       "</style>\n",
       "<table border=\"1\" class=\"dataframe\">\n",
       "  <thead>\n",
       "    <tr style=\"text-align: right;\">\n",
       "      <th></th>\n",
       "      <th>u</th>\n",
       "      <th>i</th>\n",
       "      <th>ts</th>\n",
       "      <th>idx</th>\n",
       "      <th>rt</th>\n",
       "      <th>0</th>\n",
       "      <th>1</th>\n",
       "      <th>2</th>\n",
       "      <th>3</th>\n",
       "      <th>4</th>\n",
       "    </tr>\n",
       "  </thead>\n",
       "  <tbody>\n",
       "    <tr>\n",
       "      <th>335204989</th>\n",
       "      <td>14938</td>\n",
       "      <td>14938</td>\n",
       "      <td>6000000</td>\n",
       "      <td>335204990</td>\n",
       "      <td>3.0</td>\n",
       "      <td>0.0</td>\n",
       "      <td>0.0</td>\n",
       "      <td>0.0</td>\n",
       "      <td>0.0</td>\n",
       "      <td>1.0</td>\n",
       "    </tr>\n",
       "    <tr>\n",
       "      <th>335204990</th>\n",
       "      <td>16284</td>\n",
       "      <td>17932</td>\n",
       "      <td>6000000</td>\n",
       "      <td>335204991</td>\n",
       "      <td>0.0</td>\n",
       "      <td>0.0</td>\n",
       "      <td>0.0</td>\n",
       "      <td>1.0</td>\n",
       "      <td>0.0</td>\n",
       "      <td>0.0</td>\n",
       "    </tr>\n",
       "    <tr>\n",
       "      <th>335204991</th>\n",
       "      <td>43759</td>\n",
       "      <td>28205</td>\n",
       "      <td>6000000</td>\n",
       "      <td>335204992</td>\n",
       "      <td>1.0</td>\n",
       "      <td>0.0</td>\n",
       "      <td>0.0</td>\n",
       "      <td>1.0</td>\n",
       "      <td>0.0</td>\n",
       "      <td>0.0</td>\n",
       "    </tr>\n",
       "    <tr>\n",
       "      <th>335204992</th>\n",
       "      <td>66999</td>\n",
       "      <td>66999</td>\n",
       "      <td>6000000</td>\n",
       "      <td>335204993</td>\n",
       "      <td>NaN</td>\n",
       "      <td>0.0</td>\n",
       "      <td>0.0</td>\n",
       "      <td>1.0</td>\n",
       "      <td>0.0</td>\n",
       "      <td>0.0</td>\n",
       "    </tr>\n",
       "    <tr>\n",
       "      <th>335204993</th>\n",
       "      <td>5870</td>\n",
       "      <td>2402</td>\n",
       "      <td>6000000</td>\n",
       "      <td>335204994</td>\n",
       "      <td>0.0</td>\n",
       "      <td>0.0</td>\n",
       "      <td>0.0</td>\n",
       "      <td>1.0</td>\n",
       "      <td>0.0</td>\n",
       "      <td>0.0</td>\n",
       "    </tr>\n",
       "    <tr>\n",
       "      <th>...</th>\n",
       "      <td>...</td>\n",
       "      <td>...</td>\n",
       "      <td>...</td>\n",
       "      <td>...</td>\n",
       "      <td>...</td>\n",
       "      <td>...</td>\n",
       "      <td>...</td>\n",
       "      <td>...</td>\n",
       "      <td>...</td>\n",
       "      <td>...</td>\n",
       "    </tr>\n",
       "    <tr>\n",
       "      <th>338246044</th>\n",
       "      <td>28012</td>\n",
       "      <td>37927</td>\n",
       "      <td>6059999</td>\n",
       "      <td>338246045</td>\n",
       "      <td>1.0</td>\n",
       "      <td>1.0</td>\n",
       "      <td>0.0</td>\n",
       "      <td>0.0</td>\n",
       "      <td>0.0</td>\n",
       "      <td>0.0</td>\n",
       "    </tr>\n",
       "    <tr>\n",
       "      <th>338246045</th>\n",
       "      <td>51804</td>\n",
       "      <td>20354</td>\n",
       "      <td>6059999</td>\n",
       "      <td>338246046</td>\n",
       "      <td>0.0</td>\n",
       "      <td>0.0</td>\n",
       "      <td>0.0</td>\n",
       "      <td>0.0</td>\n",
       "      <td>1.0</td>\n",
       "      <td>0.0</td>\n",
       "    </tr>\n",
       "    <tr>\n",
       "      <th>338246046</th>\n",
       "      <td>32740</td>\n",
       "      <td>32740</td>\n",
       "      <td>6059999</td>\n",
       "      <td>338246047</td>\n",
       "      <td>0.0</td>\n",
       "      <td>0.0</td>\n",
       "      <td>0.0</td>\n",
       "      <td>0.0</td>\n",
       "      <td>0.0</td>\n",
       "      <td>1.0</td>\n",
       "    </tr>\n",
       "    <tr>\n",
       "      <th>338246047</th>\n",
       "      <td>67001</td>\n",
       "      <td>31913</td>\n",
       "      <td>6059999</td>\n",
       "      <td>338246048</td>\n",
       "      <td>6.0</td>\n",
       "      <td>0.0</td>\n",
       "      <td>1.0</td>\n",
       "      <td>0.0</td>\n",
       "      <td>0.0</td>\n",
       "      <td>0.0</td>\n",
       "    </tr>\n",
       "    <tr>\n",
       "      <th>338246048</th>\n",
       "      <td>41645</td>\n",
       "      <td>45719</td>\n",
       "      <td>6059999</td>\n",
       "      <td>338246049</td>\n",
       "      <td>0.0</td>\n",
       "      <td>0.0</td>\n",
       "      <td>0.0</td>\n",
       "      <td>1.0</td>\n",
       "      <td>0.0</td>\n",
       "      <td>0.0</td>\n",
       "    </tr>\n",
       "  </tbody>\n",
       "</table>\n",
       "<p>3041060 rows × 10 columns</p>\n",
       "</div>"
      ]
     },
     "execution_count": 28,
     "metadata": {},
     "output_type": "execute_result"
    }
   ],
   "execution_count": 28
  },
  {
   "metadata": {
    "ExecuteTime": {
     "end_time": "2025-06-11T12:32:12.486823Z",
     "start_time": "2025-06-11T12:32:12.477893Z"
    }
   },
   "cell_type": "code",
   "source": [
    "import matplotlib.pyplot as plt\n",
    "from matplotlib.patches import FancyArrowPatch\n",
    "import numpy as np\n",
    "\n",
    "def plot_contact_sequence(edges, output_path='contact-sequence.png'):\n",
    "    timestamps = [edge[2] for edge in edges]\n",
    "    max_ts_lim = np.max(timestamps) + np.max(timestamps) * 0.05\n",
    "\n",
    "    # Extract unique sorted node list\n",
    "    nodes = sorted(set(u for u, v, _ in edges) | set(v for u, v, _ in edges))\n",
    "    node_to_y = {node: i for i, node in enumerate(nodes)}\n",
    "\n",
    "    # Colors\n",
    "    colors = plt.cm.Set3(np.linspace(0, 1, len(nodes)))\n",
    "\n",
    "    # Plot setup\n",
    "    fig, ax = plt.subplots(figsize=(12, 6))\n",
    "\n",
    "    # Draw shaded bands per node and dashed timelines\n",
    "    for i, node in enumerate(nodes):\n",
    "        ax.axhspan(i - 0.4, i + 0.4, color=colors[i % len(colors)], alpha=0.3, zorder=0)\n",
    "        ax.hlines(\n",
    "            y=i,\n",
    "            xmin=0,\n",
    "            xmax=max_ts_lim,\n",
    "            color='lightgray',\n",
    "            linestyle='--',\n",
    "            linewidth=1,\n",
    "            zorder=1\n",
    "        )\n",
    "\n",
    "    # Use y-ticks for node labels\n",
    "    ax.set_yticks(range(len(nodes)))\n",
    "    ax.set_yticklabels([str(node) for node in nodes], fontsize=10, fontweight='bold')\n",
    "    ax.tick_params(axis='y', pad=5)\n",
    "\n",
    "    # Plot arrows for contacts\n",
    "    for u, v, t in edges:\n",
    "        y1, y2 = node_to_y[u], node_to_y[v]\n",
    "        rad = 0.3 if y1 < y2 else -0.3\n",
    "        color = 'crimson'\n",
    "\n",
    "        if y1 == y2:\n",
    "            # Self-loop (shown as a dot)\n",
    "            ax.plot([t], [y1], 'o', color=color, markersize=6, zorder=2)\n",
    "        else:\n",
    "            arrow = FancyArrowPatch(\n",
    "                (t, y1), (t, y2),\n",
    "                connectionstyle=f\"arc3,rad={rad}\",\n",
    "                arrowstyle='-|>',\n",
    "                mutation_scale=14,\n",
    "                linewidth=2,\n",
    "                color=color,\n",
    "                alpha=0.9,\n",
    "                zorder=3\n",
    "            )\n",
    "            ax.add_patch(arrow)\n",
    "\n",
    "    # Axes formatting\n",
    "    ax.set_ylim(-1, len(nodes))\n",
    "    ax.set_xlim(0, max_ts_lim)\n",
    "    ax.set_xlabel(\"Time\", fontsize=12)\n",
    "    ax.set_ylabel(\"Nodes\", fontsize=12)\n",
    "    ax.grid(False)\n",
    "    ax.spines[['top', 'right', 'left']].set_visible(False)  # keep bottom axis only\n",
    "    ax.tick_params(axis='x', labelsize=10)\n",
    "\n",
    "    # Save and show\n",
    "    plt.tight_layout()\n",
    "    plt.savefig(output_path, dpi=300)\n",
    "    plt.show()"
   ],
   "id": "c0cdaebb76704ab4",
   "outputs": [],
   "execution_count": 8
  },
  {
   "metadata": {
    "ExecuteTime": {
     "end_time": "2025-06-11T12:32:13.004999Z",
     "start_time": "2025-06-11T12:32:12.778199Z"
    }
   },
   "cell_type": "code",
   "source": [
    "plot_contact_sequence([\n",
    "    (10, 25, 100),\n",
    "    (30, 45, 100),\n",
    "    (25, 30, 200),\n",
    "    (45, 60, 200),\n",
    "    (10, 50, 200),\n",
    "    (30, 10, 300),\n",
    "    (60, 25, 300),\n",
    "    (50, 45, 400),\n",
    "    (25, 10, 400)\n",
    "])"
   ],
   "id": "549068b65e7269cc",
   "outputs": [
    {
     "data": {
      "text/plain": [
       "<Figure size 1200x600 with 1 Axes>"
      ],
      "image/png": "[encoded data removed]"
     },
     "metadata": {},
     "output_type": "display_data"
    }
   ],
   "execution_count": 9
  },
  {
   "metadata": {
    "ExecuteTime": {
     "end_time": "2025-06-24T12:44:29.121908Z",
     "start_time": "2025-06-24T12:43:15.771265Z"
    }
   },
   "cell_type": "code",
   "source": [
    "import os\n",
    "import pandas as pd\n",
    "\n",
    "file_dir = '/Volumes/traces/final_data_files/'\n",
    "\n",
    "file_paths = [os.path.join(file_dir, f'data_{file_id}.parquet') for file_id in range(1440, 1680)]\n",
    "dfs = [pd.read_parquet(file_path).sort_values(by='ts', ascending=True) for file_path in file_paths]"
   ],
   "id": "6af9b5148e2b47ae",
   "outputs": [],
   "execution_count": 2
  },
  {
   "metadata": {
    "ExecuteTime": {
     "end_time": "2025-06-24T12:45:00.309468Z",
     "start_time": "2025-06-24T12:44:29.150528Z"
    }
   },
   "cell_type": "code",
   "source": "merged_df = pd.concat(dfs)",
   "id": "beca20d3df5e9581",
   "outputs": [],
   "execution_count": 3
  },
  {
   "metadata": {
    "ExecuteTime": {
     "end_time": "2025-06-24T12:45:12.460192Z",
     "start_time": "2025-06-24T12:45:00.487519Z"
    }
   },
   "cell_type": "code",
   "source": "selected_df = merged_df[['u', 'i', 'ts']]",
   "id": "9b9a8ba2413f6db2",
   "outputs": [],
   "execution_count": 4
  },
  {
   "metadata": {
    "ExecuteTime": {
     "end_time": "2025-06-24T12:45:48.402153Z",
     "start_time": "2025-06-24T12:45:12.489722Z"
    }
   },
   "cell_type": "code",
   "source": "selected_df.to_parquet('/Users/ashfaqsalehin/Downloads/4_hour_data.parquet')",
   "id": "2f3fdd99d68da8f1",
   "outputs": [],
   "execution_count": 5
  },
  {
   "metadata": {
    "ExecuteTime": {
     "end_time": "2025-06-27T10:55:46.670635Z",
     "start_time": "2025-06-27T10:55:34.728311Z"
    }
   },
   "cell_type": "code",
   "source": [
    "from sklearn.preprocessing import LabelEncoder\n",
    "import pandas as pd\n",
    "\n",
    "df = pd.read_csv('/Users/ashfaqsalehin/Downloads/tgbl-subreddit 2/tgbl-subreddit_edgelist.csv')\n",
    "\n",
    "all_ids = pd.concat([df['user_id'], df['item_id']]).unique()\n",
    "\n",
    "# Create single encoder for all nodes\n",
    "node_encoder = LabelEncoder()\n",
    "node_encoder.fit(all_ids)\n",
    "\n",
    "# Encode both columns using the same encoder\n",
    "df['user_id'] = node_encoder.transform(df['user_id'])\n",
    "df['item_id'] = node_encoder.transform(df['item_id'])\n",
    "\n",
    "df = df[['user_id', 'item_id', 'timestamp']].copy()\n",
    "df.columns = ['u', 'i', 'ts']\n",
    "\n",
    "df['ts'] = df['ts'] - df['ts'].min()\n",
    "df = df.sort_values('ts').reset_index(drop=True)"
   ],
   "id": "af13dc95d43c608b",
   "outputs": [],
   "execution_count": 13
  },
  {
   "metadata": {
    "ExecuteTime": {
     "end_time": "2025-06-27T10:55:47.016649Z",
     "start_time": "2025-06-27T10:55:46.680432Z"
    }
   },
   "cell_type": "code",
   "source": "df.to_csv('/Users/ashfaqsalehin/Downloads/reddit.csv', index=False)",
   "id": "e408246946c286cc",
   "outputs": [],
   "execution_count": 14
  },
  {
   "metadata": {
    "ExecuteTime": {
     "end_time": "2025-06-27T10:59:03.831886Z",
     "start_time": "2025-06-27T10:59:03.810935Z"
    }
   },
   "cell_type": "code",
   "source": "df = pd.read_csv('/Users/ashfaqsalehin/Downloads/wiki.csv')",
   "id": "fcf4da7d9a27aa66",
   "outputs": [],
   "execution_count": 18
  },
  {
   "metadata": {
    "ExecuteTime": {
     "end_time": "2025-06-27T10:59:05.260438Z",
     "start_time": "2025-06-27T10:59:05.255803Z"
    }
   },
   "cell_type": "code",
   "source": "df['ts'].unique()",
   "id": "9b5f7217bf22b97e",
   "outputs": [
    {
     "data": {
      "text/plain": [
       "array([ 0.        , 13.20056788, 26.40113576, 39.60170364, 52.80227152,\n",
       "       66.0028394 ])"
      ]
     },
     "execution_count": 19,
     "metadata": {},
     "output_type": "execute_result"
    }
   ],
   "execution_count": 19
  },
  {
   "metadata": {
    "ExecuteTime": {
     "end_time": "2025-06-29T17:02:33.924302Z",
     "start_time": "2025-06-29T17:02:11.521620Z"
    }
   },
   "cell_type": "code",
   "source": [
    "import pandas as pd\n",
    "\n",
    "df = pd.read_csv('/Users/ashfaqsalehin/Downloads/tgbl-flight-v2/tgbl-flight_edgelist_v2.csv')"
   ],
   "id": "189c9c1ccbf2de74",
   "outputs": [],
   "execution_count": 42
  },
  {
   "metadata": {
    "ExecuteTime": {
     "end_time": "2025-06-29T17:02:33.952794Z",
     "start_time": "2025-06-29T17:02:33.948558Z"
    }
   },
   "cell_type": "code",
   "source": "df.columns",
   "id": "5e10cc35d0a9e255",
   "outputs": [
    {
     "data": {
      "text/plain": [
       "Index(['timestamp', 'src', 'dst', 'callsign', 'typecode'], dtype='object')"
      ]
     },
     "execution_count": 43,
     "metadata": {},
     "output_type": "execute_result"
    }
   ],
   "execution_count": 43
  },
  {
   "metadata": {
    "ExecuteTime": {
     "end_time": "2025-06-29T17:02:59.605957Z",
     "start_time": "2025-06-29T17:02:46.703039Z"
    }
   },
   "cell_type": "code",
   "source": [
    "from sklearn.preprocessing import LabelEncoder\n",
    "\n",
    "all_nodes = pd.concat([df['src'], df['dst']], ignore_index=True).unique()\n",
    "\n",
    "# Initialize and fit label encoder on all unique nodes\n",
    "label_encoder = LabelEncoder()\n",
    "label_encoder.fit(all_nodes)\n",
    "\n",
    "# Transform user_id and item_id using the same encoder\n",
    "df['src'] = label_encoder.transform(df['src'])\n",
    "df['dst'] = label_encoder.transform(df['dst'])"
   ],
   "id": "b58851924ed85294",
   "outputs": [],
   "execution_count": 44
  },
  {
   "metadata": {
    "ExecuteTime": {
     "end_time": "2025-06-29T17:03:01.002095Z",
     "start_time": "2025-06-29T17:02:59.609048Z"
    }
   },
   "cell_type": "code",
   "source": "df = df[['src', 'dst', 'timestamp']]",
   "id": "8cb66c4998bc3af4",
   "outputs": [],
   "execution_count": 45
  },
  {
   "metadata": {
    "ExecuteTime": {
     "end_time": "2025-06-29T17:03:07.466983Z",
     "start_time": "2025-06-29T17:03:04.658680Z"
    }
   },
   "cell_type": "code",
   "source": [
    "df.columns = ['u', 'i', 'ts']\n",
    "df = df.sort_values('ts').reset_index(drop=True)\n",
    "\n",
    "original_min_ts = df['ts'].min()\n",
    "if original_min_ts < 0:\n",
    "    df['ts'] = df['ts'] - original_min_ts"
   ],
   "id": "93947a36f9e97a74",
   "outputs": [],
   "execution_count": 46
  },
  {
   "metadata": {
    "ExecuteTime": {
     "end_time": "2025-06-29T17:04:02.653407Z",
     "start_time": "2025-06-29T17:03:23.402489Z"
    }
   },
   "cell_type": "code",
   "source": "df.to_csv('/Users/ashfaqsalehin/Documents/other_datasets/flight.csv', index=False)",
   "id": "a154cc7a54fb0024",
   "outputs": [],
   "execution_count": 47
  },
  {
   "metadata": {
    "ExecuteTime": {
     "end_time": "2025-06-29T17:04:09.421587Z",
     "start_time": "2025-06-29T17:04:02.657591Z"
    }
   },
   "cell_type": "code",
   "source": [
    "df = pd.read_csv('/Users/ashfaqsalehin/Documents/other_datasets/flight.csv')\n",
    "len(df)"
   ],
   "id": "f6ced207f9d4f55",
   "outputs": [
    {
     "data": {
      "text/plain": [
       "67169570"
      ]
     },
     "execution_count": 48,
     "metadata": {},
     "output_type": "execute_result"
    }
   ],
   "execution_count": 48
  },
  {
   "metadata": {},
   "cell_type": "code",
   "outputs": [],
   "execution_count": null,
   "source": "",
   "id": "17f98e8bf1fb521e"
  }
 ],
 "metadata": {
  "kernelspec": {
   "display_name": "Python 3",
   "language": "python",
   "name": "python3"
  },
  "language_info": {
   "codemirror_mode": {
    "name": "ipython",
    "version": 2
   },
   "file_extension": ".py",
   "mimetype": "text/x-python",
   "name": "python",
   "nbconvert_exporter": "python",
   "pygments_lexer": "ipython2",
   "version": "2.7.6"
  }
 },
 "nbformat": 4,
 "nbformat_minor": 5
}
