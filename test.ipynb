{
 "cells": [
  {
   "cell_type": "code",
   "id": "initial_id",
   "metadata": {
    "collapsed": true,
    "ExecuteTime": {
     "end_time": "2025-08-29T22:42:05.497809Z",
     "start_time": "2025-08-29T22:42:02.609409Z"
    }
   },
   "source": [
    "import os.path\n",
    "\n",
    "from sympy.printing.pytorch import torch\n",
    "\n",
    "file_path = '/Volumes/EXTERNALHDD/traces_disk_2/final_data_files/data_1.parquet'"
   ],
   "outputs": [],
   "execution_count": 17
  },
  {
   "metadata": {
    "ExecuteTime": {
     "end_time": "2025-07-11T03:16:39.829237Z",
     "start_time": "2025-07-11T03:16:37.851167Z"
    }
   },
   "cell_type": "code",
   "source": [
    "import pandas as pd\n",
    "\n",
    "edges_df = pd.read_parquet(file_path)"
   ],
   "id": "97c854b0c6f08ba7",
   "outputs": [
    {
     "ename": "FileNotFoundError",
     "evalue": "[Errno 2] No such file or directory: '/Volumes/EXTERNALHDD/traces_disk_2/final_data_files/data_1.parquet'",
     "output_type": "error",
     "traceback": [
      "\u001B[0;31m---------------------------------------------------------------------------\u001B[0m",
      "\u001B[0;31mFileNotFoundError\u001B[0m                         Traceback (most recent call last)",
      "Cell \u001B[0;32mIn[5], line 3\u001B[0m\n\u001B[1;32m      1\u001B[0m \u001B[38;5;28;01mimport\u001B[39;00m\u001B[38;5;250m \u001B[39m\u001B[38;5;21;01mpandas\u001B[39;00m\u001B[38;5;250m \u001B[39m\u001B[38;5;28;01mas\u001B[39;00m\u001B[38;5;250m \u001B[39m\u001B[38;5;21;01mpd\u001B[39;00m\n\u001B[0;32m----> 3\u001B[0m edges_df \u001B[38;5;241m=\u001B[39m \u001B[43mpd\u001B[49m\u001B[38;5;241;43m.\u001B[39;49m\u001B[43mread_parquet\u001B[49m\u001B[43m(\u001B[49m\u001B[43mfile_path\u001B[49m\u001B[43m)\u001B[49m\n",
      "File \u001B[0;32m~/PycharmProjects/temporal-random-walk-test/.venv/lib/python3.10/site-packages/pandas/io/parquet.py:669\u001B[0m, in \u001B[0;36mread_parquet\u001B[0;34m(path, engine, columns, storage_options, use_nullable_dtypes, dtype_backend, filesystem, filters, **kwargs)\u001B[0m\n\u001B[1;32m    666\u001B[0m     use_nullable_dtypes \u001B[38;5;241m=\u001B[39m \u001B[38;5;28;01mFalse\u001B[39;00m\n\u001B[1;32m    667\u001B[0m check_dtype_backend(dtype_backend)\n\u001B[0;32m--> 669\u001B[0m \u001B[38;5;28;01mreturn\u001B[39;00m \u001B[43mimpl\u001B[49m\u001B[38;5;241;43m.\u001B[39;49m\u001B[43mread\u001B[49m\u001B[43m(\u001B[49m\n\u001B[1;32m    670\u001B[0m \u001B[43m    \u001B[49m\u001B[43mpath\u001B[49m\u001B[43m,\u001B[49m\n\u001B[1;32m    671\u001B[0m \u001B[43m    \u001B[49m\u001B[43mcolumns\u001B[49m\u001B[38;5;241;43m=\u001B[39;49m\u001B[43mcolumns\u001B[49m\u001B[43m,\u001B[49m\n\u001B[1;32m    672\u001B[0m \u001B[43m    \u001B[49m\u001B[43mfilters\u001B[49m\u001B[38;5;241;43m=\u001B[39;49m\u001B[43mfilters\u001B[49m\u001B[43m,\u001B[49m\n\u001B[1;32m    673\u001B[0m \u001B[43m    \u001B[49m\u001B[43mstorage_options\u001B[49m\u001B[38;5;241;43m=\u001B[39;49m\u001B[43mstorage_options\u001B[49m\u001B[43m,\u001B[49m\n\u001B[1;32m    674\u001B[0m \u001B[43m    \u001B[49m\u001B[43muse_nullable_dtypes\u001B[49m\u001B[38;5;241;43m=\u001B[39;49m\u001B[43muse_nullable_dtypes\u001B[49m\u001B[43m,\u001B[49m\n\u001B[1;32m    675\u001B[0m \u001B[43m    \u001B[49m\u001B[43mdtype_backend\u001B[49m\u001B[38;5;241;43m=\u001B[39;49m\u001B[43mdtype_backend\u001B[49m\u001B[43m,\u001B[49m\n\u001B[1;32m    676\u001B[0m \u001B[43m    \u001B[49m\u001B[43mfilesystem\u001B[49m\u001B[38;5;241;43m=\u001B[39;49m\u001B[43mfilesystem\u001B[49m\u001B[43m,\u001B[49m\n\u001B[1;32m    677\u001B[0m \u001B[43m    \u001B[49m\u001B[38;5;241;43m*\u001B[39;49m\u001B[38;5;241;43m*\u001B[39;49m\u001B[43mkwargs\u001B[49m\u001B[43m,\u001B[49m\n\u001B[1;32m    678\u001B[0m \u001B[43m\u001B[49m\u001B[43m)\u001B[49m\n",
      "File \u001B[0;32m~/PycharmProjects/temporal-random-walk-test/.venv/lib/python3.10/site-packages/pandas/io/parquet.py:258\u001B[0m, in \u001B[0;36mPyArrowImpl.read\u001B[0;34m(self, path, columns, filters, use_nullable_dtypes, dtype_backend, storage_options, filesystem, **kwargs)\u001B[0m\n\u001B[1;32m    256\u001B[0m \u001B[38;5;28;01mif\u001B[39;00m manager \u001B[38;5;241m==\u001B[39m \u001B[38;5;124m\"\u001B[39m\u001B[38;5;124marray\u001B[39m\u001B[38;5;124m\"\u001B[39m:\n\u001B[1;32m    257\u001B[0m     to_pandas_kwargs[\u001B[38;5;124m\"\u001B[39m\u001B[38;5;124msplit_blocks\u001B[39m\u001B[38;5;124m\"\u001B[39m] \u001B[38;5;241m=\u001B[39m \u001B[38;5;28;01mTrue\u001B[39;00m\n\u001B[0;32m--> 258\u001B[0m path_or_handle, handles, filesystem \u001B[38;5;241m=\u001B[39m \u001B[43m_get_path_or_handle\u001B[49m\u001B[43m(\u001B[49m\n\u001B[1;32m    259\u001B[0m \u001B[43m    \u001B[49m\u001B[43mpath\u001B[49m\u001B[43m,\u001B[49m\n\u001B[1;32m    260\u001B[0m \u001B[43m    \u001B[49m\u001B[43mfilesystem\u001B[49m\u001B[43m,\u001B[49m\n\u001B[1;32m    261\u001B[0m \u001B[43m    \u001B[49m\u001B[43mstorage_options\u001B[49m\u001B[38;5;241;43m=\u001B[39;49m\u001B[43mstorage_options\u001B[49m\u001B[43m,\u001B[49m\n\u001B[1;32m    262\u001B[0m \u001B[43m    \u001B[49m\u001B[43mmode\u001B[49m\u001B[38;5;241;43m=\u001B[39;49m\u001B[38;5;124;43m\"\u001B[39;49m\u001B[38;5;124;43mrb\u001B[39;49m\u001B[38;5;124;43m\"\u001B[39;49m\u001B[43m,\u001B[49m\n\u001B[1;32m    263\u001B[0m \u001B[43m\u001B[49m\u001B[43m)\u001B[49m\n\u001B[1;32m    264\u001B[0m \u001B[38;5;28;01mtry\u001B[39;00m:\n\u001B[1;32m    265\u001B[0m     pa_table \u001B[38;5;241m=\u001B[39m \u001B[38;5;28mself\u001B[39m\u001B[38;5;241m.\u001B[39mapi\u001B[38;5;241m.\u001B[39mparquet\u001B[38;5;241m.\u001B[39mread_table(\n\u001B[1;32m    266\u001B[0m         path_or_handle,\n\u001B[1;32m    267\u001B[0m         columns\u001B[38;5;241m=\u001B[39mcolumns,\n\u001B[0;32m   (...)\u001B[0m\n\u001B[1;32m    270\u001B[0m         \u001B[38;5;241m*\u001B[39m\u001B[38;5;241m*\u001B[39mkwargs,\n\u001B[1;32m    271\u001B[0m     )\n",
      "File \u001B[0;32m~/PycharmProjects/temporal-random-walk-test/.venv/lib/python3.10/site-packages/pandas/io/parquet.py:141\u001B[0m, in \u001B[0;36m_get_path_or_handle\u001B[0;34m(path, fs, storage_options, mode, is_dir)\u001B[0m\n\u001B[1;32m    131\u001B[0m handles \u001B[38;5;241m=\u001B[39m \u001B[38;5;28;01mNone\u001B[39;00m\n\u001B[1;32m    132\u001B[0m \u001B[38;5;28;01mif\u001B[39;00m (\n\u001B[1;32m    133\u001B[0m     \u001B[38;5;129;01mnot\u001B[39;00m fs\n\u001B[1;32m    134\u001B[0m     \u001B[38;5;129;01mand\u001B[39;00m \u001B[38;5;129;01mnot\u001B[39;00m is_dir\n\u001B[0;32m   (...)\u001B[0m\n\u001B[1;32m    139\u001B[0m     \u001B[38;5;66;03m# fsspec resources can also point to directories\u001B[39;00m\n\u001B[1;32m    140\u001B[0m     \u001B[38;5;66;03m# this branch is used for example when reading from non-fsspec URLs\u001B[39;00m\n\u001B[0;32m--> 141\u001B[0m     handles \u001B[38;5;241m=\u001B[39m \u001B[43mget_handle\u001B[49m\u001B[43m(\u001B[49m\n\u001B[1;32m    142\u001B[0m \u001B[43m        \u001B[49m\u001B[43mpath_or_handle\u001B[49m\u001B[43m,\u001B[49m\u001B[43m \u001B[49m\u001B[43mmode\u001B[49m\u001B[43m,\u001B[49m\u001B[43m \u001B[49m\u001B[43mis_text\u001B[49m\u001B[38;5;241;43m=\u001B[39;49m\u001B[38;5;28;43;01mFalse\u001B[39;49;00m\u001B[43m,\u001B[49m\u001B[43m \u001B[49m\u001B[43mstorage_options\u001B[49m\u001B[38;5;241;43m=\u001B[39;49m\u001B[43mstorage_options\u001B[49m\n\u001B[1;32m    143\u001B[0m \u001B[43m    \u001B[49m\u001B[43m)\u001B[49m\n\u001B[1;32m    144\u001B[0m     fs \u001B[38;5;241m=\u001B[39m \u001B[38;5;28;01mNone\u001B[39;00m\n\u001B[1;32m    145\u001B[0m     path_or_handle \u001B[38;5;241m=\u001B[39m handles\u001B[38;5;241m.\u001B[39mhandle\n",
      "File \u001B[0;32m~/PycharmProjects/temporal-random-walk-test/.venv/lib/python3.10/site-packages/pandas/io/common.py:882\u001B[0m, in \u001B[0;36mget_handle\u001B[0;34m(path_or_buf, mode, encoding, compression, memory_map, is_text, errors, storage_options)\u001B[0m\n\u001B[1;32m    873\u001B[0m         handle \u001B[38;5;241m=\u001B[39m \u001B[38;5;28mopen\u001B[39m(\n\u001B[1;32m    874\u001B[0m             handle,\n\u001B[1;32m    875\u001B[0m             ioargs\u001B[38;5;241m.\u001B[39mmode,\n\u001B[0;32m   (...)\u001B[0m\n\u001B[1;32m    878\u001B[0m             newline\u001B[38;5;241m=\u001B[39m\u001B[38;5;124m\"\u001B[39m\u001B[38;5;124m\"\u001B[39m,\n\u001B[1;32m    879\u001B[0m         )\n\u001B[1;32m    880\u001B[0m     \u001B[38;5;28;01melse\u001B[39;00m:\n\u001B[1;32m    881\u001B[0m         \u001B[38;5;66;03m# Binary mode\u001B[39;00m\n\u001B[0;32m--> 882\u001B[0m         handle \u001B[38;5;241m=\u001B[39m \u001B[38;5;28;43mopen\u001B[39;49m\u001B[43m(\u001B[49m\u001B[43mhandle\u001B[49m\u001B[43m,\u001B[49m\u001B[43m \u001B[49m\u001B[43mioargs\u001B[49m\u001B[38;5;241;43m.\u001B[39;49m\u001B[43mmode\u001B[49m\u001B[43m)\u001B[49m\n\u001B[1;32m    883\u001B[0m     handles\u001B[38;5;241m.\u001B[39mappend(handle)\n\u001B[1;32m    885\u001B[0m \u001B[38;5;66;03m# Convert BytesIO or file objects passed with an encoding\u001B[39;00m\n",
      "\u001B[0;31mFileNotFoundError\u001B[0m: [Errno 2] No such file or directory: '/Volumes/EXTERNALHDD/traces_disk_2/final_data_files/data_1.parquet'"
     ]
    }
   ],
   "execution_count": 5
  },
  {
   "metadata": {
    "ExecuteTime": {
     "end_time": "2025-06-10T23:41:08.968379Z",
     "start_time": "2025-05-08T01:13:16.475312Z"
    }
   },
   "cell_type": "code",
   "source": "edges_df",
   "id": "6e07baa8684fa896",
   "outputs": [
    {
     "data": {
      "text/plain": [
       "             u      i      ts      idx   rt    0    1    2    3    4\n",
       "3797497  17684  18738   60000  3797498  1.0  0.0  0.0  1.0  0.0  0.0\n",
       "3797498  35482  19355   60000  3797499  0.0  0.0  0.0  0.0  0.0  1.0\n",
       "3797499  18679  59226   60000  3797500  1.0  0.0  0.0  1.0  0.0  0.0\n",
       "3797500  33545  14046   60000  3797501  0.0  0.0  0.0  1.0  0.0  0.0\n",
       "3797501    969  17869   60000  3797502  0.0  1.0  0.0  0.0  0.0  0.0\n",
       "...        ...    ...     ...      ...  ...  ...  ...  ...  ...  ...\n",
       "7393462  10077  35136  119999  7393463  0.0  0.0  0.0  1.0  0.0  0.0\n",
       "7393463  44631  44354  119999  7393464  1.0  0.0  0.0  0.0  0.0  1.0\n",
       "7393464  37176  37400  119999  7393465  1.0  0.0  0.0  1.0  0.0  0.0\n",
       "7393465  37106  22350  119999  7393466  0.0  1.0  0.0  0.0  0.0  0.0\n",
       "7393466  37106  17869  119999  7393467  0.0  1.0  0.0  0.0  0.0  0.0\n",
       "\n",
       "[3595970 rows x 10 columns]"
      ],
      "text/html": [
       "<div>\n",
       "<style scoped>\n",
       "    .dataframe tbody tr th:only-of-type {\n",
       "        vertical-align: middle;\n",
       "    }\n",
       "\n",
       "    .dataframe tbody tr th {\n",
       "        vertical-align: top;\n",
       "    }\n",
       "\n",
       "    .dataframe thead th {\n",
       "        text-align: right;\n",
       "    }\n",
       "</style>\n",
       "<table border=\"1\" class=\"dataframe\">\n",
       "  <thead>\n",
       "    <tr style=\"text-align: right;\">\n",
       "      <th></th>\n",
       "      <th>u</th>\n",
       "      <th>i</th>\n",
       "      <th>ts</th>\n",
       "      <th>idx</th>\n",
       "      <th>rt</th>\n",
       "      <th>0</th>\n",
       "      <th>1</th>\n",
       "      <th>2</th>\n",
       "      <th>3</th>\n",
       "      <th>4</th>\n",
       "    </tr>\n",
       "  </thead>\n",
       "  <tbody>\n",
       "    <tr>\n",
       "      <th>3797497</th>\n",
       "      <td>17684</td>\n",
       "      <td>18738</td>\n",
       "      <td>60000</td>\n",
       "      <td>3797498</td>\n",
       "      <td>1.0</td>\n",
       "      <td>0.0</td>\n",
       "      <td>0.0</td>\n",
       "      <td>1.0</td>\n",
       "      <td>0.0</td>\n",
       "      <td>0.0</td>\n",
       "    </tr>\n",
       "    <tr>\n",
       "      <th>3797498</th>\n",
       "      <td>35482</td>\n",
       "      <td>19355</td>\n",
       "      <td>60000</td>\n",
       "      <td>3797499</td>\n",
       "      <td>0.0</td>\n",
       "      <td>0.0</td>\n",
       "      <td>0.0</td>\n",
       "      <td>0.0</td>\n",
       "      <td>0.0</td>\n",
       "      <td>1.0</td>\n",
       "    </tr>\n",
       "    <tr>\n",
       "      <th>3797499</th>\n",
       "      <td>18679</td>\n",
       "      <td>59226</td>\n",
       "      <td>60000</td>\n",
       "      <td>3797500</td>\n",
       "      <td>1.0</td>\n",
       "      <td>0.0</td>\n",
       "      <td>0.0</td>\n",
       "      <td>1.0</td>\n",
       "      <td>0.0</td>\n",
       "      <td>0.0</td>\n",
       "    </tr>\n",
       "    <tr>\n",
       "      <th>3797500</th>\n",
       "      <td>33545</td>\n",
       "      <td>14046</td>\n",
       "      <td>60000</td>\n",
       "      <td>3797501</td>\n",
       "      <td>0.0</td>\n",
       "      <td>0.0</td>\n",
       "      <td>0.0</td>\n",
       "      <td>1.0</td>\n",
       "      <td>0.0</td>\n",
       "      <td>0.0</td>\n",
       "    </tr>\n",
       "    <tr>\n",
       "      <th>3797501</th>\n",
       "      <td>969</td>\n",
       "      <td>17869</td>\n",
       "      <td>60000</td>\n",
       "      <td>3797502</td>\n",
       "      <td>0.0</td>\n",
       "      <td>1.0</td>\n",
       "      <td>0.0</td>\n",
       "      <td>0.0</td>\n",
       "      <td>0.0</td>\n",
       "      <td>0.0</td>\n",
       "    </tr>\n",
       "    <tr>\n",
       "      <th>...</th>\n",
       "      <td>...</td>\n",
       "      <td>...</td>\n",
       "      <td>...</td>\n",
       "      <td>...</td>\n",
       "      <td>...</td>\n",
       "      <td>...</td>\n",
       "      <td>...</td>\n",
       "      <td>...</td>\n",
       "      <td>...</td>\n",
       "      <td>...</td>\n",
       "    </tr>\n",
       "    <tr>\n",
       "      <th>7393462</th>\n",
       "      <td>10077</td>\n",
       "      <td>35136</td>\n",
       "      <td>119999</td>\n",
       "      <td>7393463</td>\n",
       "      <td>0.0</td>\n",
       "      <td>0.0</td>\n",
       "      <td>0.0</td>\n",
       "      <td>1.0</td>\n",
       "      <td>0.0</td>\n",
       "      <td>0.0</td>\n",
       "    </tr>\n",
       "    <tr>\n",
       "      <th>7393463</th>\n",
       "      <td>44631</td>\n",
       "      <td>44354</td>\n",
       "      <td>119999</td>\n",
       "      <td>7393464</td>\n",
       "      <td>1.0</td>\n",
       "      <td>0.0</td>\n",
       "      <td>0.0</td>\n",
       "      <td>0.0</td>\n",
       "      <td>0.0</td>\n",
       "      <td>1.0</td>\n",
       "    </tr>\n",
       "    <tr>\n",
       "      <th>7393464</th>\n",
       "      <td>37176</td>\n",
       "      <td>37400</td>\n",
       "      <td>119999</td>\n",
       "      <td>7393465</td>\n",
       "      <td>1.0</td>\n",
       "      <td>0.0</td>\n",
       "      <td>0.0</td>\n",
       "      <td>1.0</td>\n",
       "      <td>0.0</td>\n",
       "      <td>0.0</td>\n",
       "    </tr>\n",
       "    <tr>\n",
       "      <th>7393465</th>\n",
       "      <td>37106</td>\n",
       "      <td>22350</td>\n",
       "      <td>119999</td>\n",
       "      <td>7393466</td>\n",
       "      <td>0.0</td>\n",
       "      <td>1.0</td>\n",
       "      <td>0.0</td>\n",
       "      <td>0.0</td>\n",
       "      <td>0.0</td>\n",
       "      <td>0.0</td>\n",
       "    </tr>\n",
       "    <tr>\n",
       "      <th>7393466</th>\n",
       "      <td>37106</td>\n",
       "      <td>17869</td>\n",
       "      <td>119999</td>\n",
       "      <td>7393467</td>\n",
       "      <td>0.0</td>\n",
       "      <td>1.0</td>\n",
       "      <td>0.0</td>\n",
       "      <td>0.0</td>\n",
       "      <td>0.0</td>\n",
       "      <td>0.0</td>\n",
       "    </tr>\n",
       "  </tbody>\n",
       "</table>\n",
       "<p>3595970 rows × 10 columns</p>\n",
       "</div>"
      ]
     },
     "execution_count": 19,
     "metadata": {},
     "output_type": "execute_result"
    }
   ],
   "execution_count": 19
  },
  {
   "metadata": {
    "ExecuteTime": {
     "end_time": "2025-06-10T23:41:08.977132Z",
     "start_time": "2025-05-08T01:13:16.508831Z"
    }
   },
   "cell_type": "code",
   "source": "u, i, ts = edges_df['u'].to_numpy(), edges_df['i'].to_numpy(), edges_df['ts'].to_numpy()",
   "id": "cb8afea5a00c12ba",
   "outputs": [],
   "execution_count": 20
  },
  {
   "metadata": {
    "ExecuteTime": {
     "end_time": "2025-06-10T23:41:08.978694Z",
     "start_time": "2025-05-08T01:13:16.537833Z"
    }
   },
   "cell_type": "code",
   "source": [
    "from temporal_random_walk import TemporalRandomWalk\n",
    "\n",
    "temporal_random_walk = TemporalRandomWalk(is_directed=True, use_gpu=False)"
   ],
   "id": "e32de9bb9b3adff2",
   "outputs": [],
   "execution_count": 21
  },
  {
   "metadata": {
    "ExecuteTime": {
     "end_time": "2025-06-10T23:41:08.981783Z",
     "start_time": "2025-05-08T01:13:16.548049Z"
    }
   },
   "cell_type": "code",
   "source": [
    "from raphtory import Graph\n",
    "g = Graph()"
   ],
   "id": "fdc5559673d43c0f",
   "outputs": [],
   "execution_count": 22
  },
  {
   "metadata": {
    "ExecuteTime": {
     "end_time": "2025-06-10T23:41:08.981998Z",
     "start_time": "2025-05-08T01:13:16.752976Z"
    }
   },
   "cell_type": "code",
   "source": [
    "g.load_edges_from_pandas(\n",
    "    df=edges_df,\n",
    "    time=\"ts\",\n",
    "    src=\"u\",\n",
    "    dst=\"i\"\n",
    ")"
   ],
   "id": "bcd22c23b6135e47",
   "outputs": [
    {
     "data": {
      "text/plain": [
       "HBox(children=(HTML(value=''), IntProgress(value=0, max=3595970), HTML(value='')))"
      ],
      "application/vnd.jupyter.widget-view+json": {
       "version_major": 2,
       "version_minor": 0,
       "model_id": "c044a116cdf3403590908607f309cc4e"
      }
     },
     "metadata": {},
     "output_type": "display_data"
    }
   ],
   "execution_count": 23
  },
  {
   "metadata": {
    "ExecuteTime": {
     "end_time": "2025-06-10T23:41:08.982364Z",
     "start_time": "2025-05-08T01:13:17.156962Z"
    }
   },
   "cell_type": "code",
   "source": "temporal_random_walk.add_multiple_edges(u, i, ts)",
   "id": "b85da791bf028d13",
   "outputs": [],
   "execution_count": 24
  },
  {
   "metadata": {
    "ExecuteTime": {
     "end_time": "2025-06-10T23:41:08.982711Z",
     "start_time": "2025-05-14T14:37:27.278084Z"
    }
   },
   "cell_type": "code",
   "source": [
    "import pandas as pd\n",
    "\n",
    "df = pd.read_parquet('/Volumes/EXTERNALHDD/traces_disk_2/final_data_files/data_100.parquet')"
   ],
   "id": "f8d12d8bb3724cbb",
   "outputs": [],
   "execution_count": 26
  },
  {
   "metadata": {
    "ExecuteTime": {
     "end_time": "2025-06-10T23:41:08.982991Z",
     "start_time": "2025-05-14T14:43:53.162808Z"
    }
   },
   "cell_type": "code",
   "source": "df",
   "id": "f725f629776dfa33",
   "outputs": [
    {
     "data": {
      "text/plain": [
       "               u      i       ts        idx   rt    0    1    2    3    4\n",
       "335204989  14938  14938  6000000  335204990  3.0  0.0  0.0  0.0  0.0  1.0\n",
       "335204990  16284  17932  6000000  335204991  0.0  0.0  0.0  1.0  0.0  0.0\n",
       "335204991  43759  28205  6000000  335204992  1.0  0.0  0.0  1.0  0.0  0.0\n",
       "335204992  66999  66999  6000000  335204993  NaN  0.0  0.0  1.0  0.0  0.0\n",
       "335204993   5870   2402  6000000  335204994  0.0  0.0  0.0  1.0  0.0  0.0\n",
       "...          ...    ...      ...        ...  ...  ...  ...  ...  ...  ...\n",
       "338246044  28012  37927  6059999  338246045  1.0  1.0  0.0  0.0  0.0  0.0\n",
       "338246045  51804  20354  6059999  338246046  0.0  0.0  0.0  0.0  1.0  0.0\n",
       "338246046  32740  32740  6059999  338246047  0.0  0.0  0.0  0.0  0.0  1.0\n",
       "338246047  67001  31913  6059999  338246048  6.0  0.0  1.0  0.0  0.0  0.0\n",
       "338246048  41645  45719  6059999  338246049  0.0  0.0  0.0  1.0  0.0  0.0\n",
       "\n",
       "[3041060 rows x 10 columns]"
      ],
      "text/html": [
       "<div>\n",
       "<style scoped>\n",
       "    .dataframe tbody tr th:only-of-type {\n",
       "        vertical-align: middle;\n",
       "    }\n",
       "\n",
       "    .dataframe tbody tr th {\n",
       "        vertical-align: top;\n",
       "    }\n",
       "\n",
       "    .dataframe thead th {\n",
       "        text-align: right;\n",
       "    }\n",
       "</style>\n",
       "<table border=\"1\" class=\"dataframe\">\n",
       "  <thead>\n",
       "    <tr style=\"text-align: right;\">\n",
       "      <th></th>\n",
       "      <th>u</th>\n",
       "      <th>i</th>\n",
       "      <th>ts</th>\n",
       "      <th>idx</th>\n",
       "      <th>rt</th>\n",
       "      <th>0</th>\n",
       "      <th>1</th>\n",
       "      <th>2</th>\n",
       "      <th>3</th>\n",
       "      <th>4</th>\n",
       "    </tr>\n",
       "  </thead>\n",
       "  <tbody>\n",
       "    <tr>\n",
       "      <th>335204989</th>\n",
       "      <td>14938</td>\n",
       "      <td>14938</td>\n",
       "      <td>6000000</td>\n",
       "      <td>335204990</td>\n",
       "      <td>3.0</td>\n",
       "      <td>0.0</td>\n",
       "      <td>0.0</td>\n",
       "      <td>0.0</td>\n",
       "      <td>0.0</td>\n",
       "      <td>1.0</td>\n",
       "    </tr>\n",
       "    <tr>\n",
       "      <th>335204990</th>\n",
       "      <td>16284</td>\n",
       "      <td>17932</td>\n",
       "      <td>6000000</td>\n",
       "      <td>335204991</td>\n",
       "      <td>0.0</td>\n",
       "      <td>0.0</td>\n",
       "      <td>0.0</td>\n",
       "      <td>1.0</td>\n",
       "      <td>0.0</td>\n",
       "      <td>0.0</td>\n",
       "    </tr>\n",
       "    <tr>\n",
       "      <th>335204991</th>\n",
       "      <td>43759</td>\n",
       "      <td>28205</td>\n",
       "      <td>6000000</td>\n",
       "      <td>335204992</td>\n",
       "      <td>1.0</td>\n",
       "      <td>0.0</td>\n",
       "      <td>0.0</td>\n",
       "      <td>1.0</td>\n",
       "      <td>0.0</td>\n",
       "      <td>0.0</td>\n",
       "    </tr>\n",
       "    <tr>\n",
       "      <th>335204992</th>\n",
       "      <td>66999</td>\n",
       "      <td>66999</td>\n",
       "      <td>6000000</td>\n",
       "      <td>335204993</td>\n",
       "      <td>NaN</td>\n",
       "      <td>0.0</td>\n",
       "      <td>0.0</td>\n",
       "      <td>1.0</td>\n",
       "      <td>0.0</td>\n",
       "      <td>0.0</td>\n",
       "    </tr>\n",
       "    <tr>\n",
       "      <th>335204993</th>\n",
       "      <td>5870</td>\n",
       "      <td>2402</td>\n",
       "      <td>6000000</td>\n",
       "      <td>335204994</td>\n",
       "      <td>0.0</td>\n",
       "      <td>0.0</td>\n",
       "      <td>0.0</td>\n",
       "      <td>1.0</td>\n",
       "      <td>0.0</td>\n",
       "      <td>0.0</td>\n",
       "    </tr>\n",
       "    <tr>\n",
       "      <th>...</th>\n",
       "      <td>...</td>\n",
       "      <td>...</td>\n",
       "      <td>...</td>\n",
       "      <td>...</td>\n",
       "      <td>...</td>\n",
       "      <td>...</td>\n",
       "      <td>...</td>\n",
       "      <td>...</td>\n",
       "      <td>...</td>\n",
       "      <td>...</td>\n",
       "    </tr>\n",
       "    <tr>\n",
       "      <th>338246044</th>\n",
       "      <td>28012</td>\n",
       "      <td>37927</td>\n",
       "      <td>6059999</td>\n",
       "      <td>338246045</td>\n",
       "      <td>1.0</td>\n",
       "      <td>1.0</td>\n",
       "      <td>0.0</td>\n",
       "      <td>0.0</td>\n",
       "      <td>0.0</td>\n",
       "      <td>0.0</td>\n",
       "    </tr>\n",
       "    <tr>\n",
       "      <th>338246045</th>\n",
       "      <td>51804</td>\n",
       "      <td>20354</td>\n",
       "      <td>6059999</td>\n",
       "      <td>338246046</td>\n",
       "      <td>0.0</td>\n",
       "      <td>0.0</td>\n",
       "      <td>0.0</td>\n",
       "      <td>0.0</td>\n",
       "      <td>1.0</td>\n",
       "      <td>0.0</td>\n",
       "    </tr>\n",
       "    <tr>\n",
       "      <th>338246046</th>\n",
       "      <td>32740</td>\n",
       "      <td>32740</td>\n",
       "      <td>6059999</td>\n",
       "      <td>338246047</td>\n",
       "      <td>0.0</td>\n",
       "      <td>0.0</td>\n",
       "      <td>0.0</td>\n",
       "      <td>0.0</td>\n",
       "      <td>0.0</td>\n",
       "      <td>1.0</td>\n",
       "    </tr>\n",
       "    <tr>\n",
       "      <th>338246047</th>\n",
       "      <td>67001</td>\n",
       "      <td>31913</td>\n",
       "      <td>6059999</td>\n",
       "      <td>338246048</td>\n",
       "      <td>6.0</td>\n",
       "      <td>0.0</td>\n",
       "      <td>1.0</td>\n",
       "      <td>0.0</td>\n",
       "      <td>0.0</td>\n",
       "      <td>0.0</td>\n",
       "    </tr>\n",
       "    <tr>\n",
       "      <th>338246048</th>\n",
       "      <td>41645</td>\n",
       "      <td>45719</td>\n",
       "      <td>6059999</td>\n",
       "      <td>338246049</td>\n",
       "      <td>0.0</td>\n",
       "      <td>0.0</td>\n",
       "      <td>0.0</td>\n",
       "      <td>1.0</td>\n",
       "      <td>0.0</td>\n",
       "      <td>0.0</td>\n",
       "    </tr>\n",
       "  </tbody>\n",
       "</table>\n",
       "<p>3041060 rows × 10 columns</p>\n",
       "</div>"
      ]
     },
     "execution_count": 28,
     "metadata": {},
     "output_type": "execute_result"
    }
   ],
   "execution_count": 28
  },
  {
   "metadata": {
    "ExecuteTime": {
     "end_time": "2025-08-19T01:52:35.673343Z",
     "start_time": "2025-08-19T01:52:35.667127Z"
    }
   },
   "cell_type": "code",
   "source": [
    "import matplotlib.pyplot as plt\n",
    "from matplotlib.patches import FancyArrowPatch\n",
    "import numpy as np\n",
    "\n",
    "def plot_contact_sequence(edges, output_path='contact-sequence.pdf'):\n",
    "    timestamps = [edge[2] for edge in edges]\n",
    "    max_ts_lim = np.max(timestamps) + np.max(timestamps) * 0.05\n",
    "\n",
    "    nodes = sorted(set(u for u, v, _ in edges) | set(v for u, v, _ in edges))\n",
    "    node_to_y = {node: i for i, node in enumerate(nodes)}\n",
    "\n",
    "    # Use high-contrast colormap\n",
    "    use_grayscale = False\n",
    "    if use_grayscale:\n",
    "        colors = [str(0.85 - 0.1 * (i % 4)) for i in range(len(nodes))]\n",
    "    else:\n",
    "        colors = plt.cm.tab10(np.linspace(0, 1, len(nodes)))\n",
    "\n",
    "    # Configure fonts for ACM conference standard\n",
    "    plt.rcParams.update({\n",
    "        'font.family': 'serif',\n",
    "        'font.serif': ['Times', 'Times New Roman', 'DejaVu Serif'],\n",
    "        'font.size': 9,\n",
    "        'axes.labelsize': 9,\n",
    "        'xtick.labelsize': 8,\n",
    "        'ytick.labelsize': 8,\n",
    "        'legend.fontsize': 8,\n",
    "        'text.usetex': False\n",
    "    })\n",
    "\n",
    "    fig, ax = plt.subplots(figsize=(3.1, 1.8))  # ACM conference column width\n",
    "\n",
    "    # Background node bands and dashed timelines\n",
    "    for i, node in enumerate(nodes):\n",
    "        ax.axhspan(i - 0.3, i + 0.3, color=colors[i % len(colors)], alpha=0.15, zorder=0)\n",
    "        ax.hlines(y=i, xmin=0, xmax=max_ts_lim, color='lightgray', linestyle='--', linewidth=0.6, zorder=1)\n",
    "\n",
    "    # Y-axis: node labels\n",
    "    ax.set_yticks(range(len(nodes)))\n",
    "    ax.set_yticklabels([str(node) for node in nodes], fontweight='bold')\n",
    "    ax.tick_params(axis='y', pad=6)\n",
    "\n",
    "    # Arrows or self-loop markers\n",
    "    for u, v, t in edges:\n",
    "        y1, y2 = node_to_y[u], node_to_y[v]\n",
    "        if y1 == y2:\n",
    "            ax.plot([t], [y1], 'o', color='black', markersize=6, zorder=3)\n",
    "        else:\n",
    "            span = abs(y2 - y1)\n",
    "            rad = 0.15 + 0.05 * span\n",
    "            rad = rad if y1 < y2 else -rad\n",
    "\n",
    "            arrow = FancyArrowPatch(\n",
    "                (t, y1), (t, y2),\n",
    "                connectionstyle=f\"arc3,rad={rad}\",\n",
    "                arrowstyle='->',\n",
    "                mutation_scale=8,\n",
    "                linewidth=1.4,\n",
    "                color='black',\n",
    "                zorder=4\n",
    "            )\n",
    "            ax.add_patch(arrow)\n",
    "\n",
    "    # Axis formatting\n",
    "    ax.set_ylim(-1.2, len(nodes) - 0.8)\n",
    "    ax.set_xlim(0, max_ts_lim)\n",
    "    ax.set_xlabel(\"Time\")\n",
    "    ax.set_ylabel(\"Nodes\")\n",
    "    ax.grid(False)\n",
    "    ax.spines[['top', 'right', 'left']].set_visible(False)\n",
    "    ax.tick_params(axis='x')\n",
    "\n",
    "    # Save high-resolution PNG\n",
    "    plt.tight_layout()\n",
    "    plt.savefig(output_path, format='pdf', dpi=300, bbox_inches='tight')\n",
    "    plt.show()"
   ],
   "id": "c0cdaebb76704ab4",
   "outputs": [],
   "execution_count": 16
  },
  {
   "metadata": {
    "ExecuteTime": {
     "end_time": "2025-08-19T01:52:35.980182Z",
     "start_time": "2025-08-19T01:52:35.883279Z"
    }
   },
   "cell_type": "code",
   "source": [
    "plot_contact_sequence([\n",
    "    (10, 25, 100),\n",
    "    (30, 45, 100),\n",
    "    (25, 30, 200),\n",
    "    (45, 60, 200),\n",
    "    (10, 50, 200),\n",
    "    (30, 10, 300),\n",
    "    (60, 25, 300),\n",
    "    (50, 45, 400),\n",
    "    (25, 10, 400)\n",
    "])"
   ],
   "id": "549068b65e7269cc",
   "outputs": [
    {
     "data": {
      "text/plain": [
       "<Figure size 310x180 with 1 Axes>"
      ],
      "image/png": "[encoded data removed]"
     },
     "metadata": {},
     "output_type": "display_data"
    }
   ],
   "execution_count": 17
  },
  {
   "metadata": {
    "ExecuteTime": {
     "end_time": "2025-06-24T12:44:29.121908Z",
     "start_time": "2025-06-24T12:43:15.771265Z"
    }
   },
   "cell_type": "code",
   "source": [
    "import os\n",
    "import pandas as pd\n",
    "\n",
    "file_dir = '/Volumes/traces/final_data_files/'\n",
    "\n",
    "file_paths = [os.path.join(file_dir, f'data_{file_id}.parquet') for file_id in range(1440, 1680)]\n",
    "dfs = [pd.read_parquet(file_path).sort_values(by='ts', ascending=True) for file_path in file_paths]"
   ],
   "id": "6af9b5148e2b47ae",
   "outputs": [],
   "execution_count": 2
  },
  {
   "metadata": {
    "ExecuteTime": {
     "end_time": "2025-06-24T12:45:00.309468Z",
     "start_time": "2025-06-24T12:44:29.150528Z"
    }
   },
   "cell_type": "code",
   "source": "merged_df = pd.concat(dfs)",
   "id": "beca20d3df5e9581",
   "outputs": [],
   "execution_count": 3
  },
  {
   "metadata": {
    "ExecuteTime": {
     "end_time": "2025-06-24T12:45:12.460192Z",
     "start_time": "2025-06-24T12:45:00.487519Z"
    }
   },
   "cell_type": "code",
   "source": "selected_df = merged_df[['u', 'i', 'ts']]",
   "id": "9b9a8ba2413f6db2",
   "outputs": [],
   "execution_count": 4
  },
  {
   "metadata": {
    "ExecuteTime": {
     "end_time": "2025-06-24T12:45:48.402153Z",
     "start_time": "2025-06-24T12:45:12.489722Z"
    }
   },
   "cell_type": "code",
   "source": "selected_df.to_parquet('/Users/ashfaqsalehin/Downloads/4_hour_data.parquet')",
   "id": "2f3fdd99d68da8f1",
   "outputs": [],
   "execution_count": 5
  },
  {
   "metadata": {
    "ExecuteTime": {
     "end_time": "2025-06-27T10:55:46.670635Z",
     "start_time": "2025-06-27T10:55:34.728311Z"
    }
   },
   "cell_type": "code",
   "source": [
    "from sklearn.preprocessing import LabelEncoder\n",
    "import pandas as pd\n",
    "\n",
    "df = pd.read_csv('/Users/ashfaqsalehin/Downloads/tgbl-subreddit 2/tgbl-subreddit_edgelist.csv')\n",
    "\n",
    "all_ids = pd.concat([df['user_id'], df['item_id']]).unique()\n",
    "\n",
    "# Create single encoder for all nodes\n",
    "node_encoder = LabelEncoder()\n",
    "node_encoder.fit(all_ids)\n",
    "\n",
    "# Encode both columns using the same encoder\n",
    "df['user_id'] = node_encoder.transform(df['user_id'])\n",
    "df['item_id'] = node_encoder.transform(df['item_id'])\n",
    "\n",
    "df = df[['user_id', 'item_id', 'timestamp']].copy()\n",
    "df.columns = ['u', 'i', 'ts']\n",
    "\n",
    "df['ts'] = df['ts'] - df['ts'].min()\n",
    "df = df.sort_values('ts').reset_index(drop=True)"
   ],
   "id": "af13dc95d43c608b",
   "outputs": [],
   "execution_count": 13
  },
  {
   "metadata": {
    "ExecuteTime": {
     "end_time": "2025-06-27T10:55:47.016649Z",
     "start_time": "2025-06-27T10:55:46.680432Z"
    }
   },
   "cell_type": "code",
   "source": "df.to_csv('/Users/ashfaqsalehin/Downloads/reddit.csv', index=False)",
   "id": "e408246946c286cc",
   "outputs": [],
   "execution_count": 14
  },
  {
   "metadata": {
    "ExecuteTime": {
     "end_time": "2025-06-27T10:59:03.831886Z",
     "start_time": "2025-06-27T10:59:03.810935Z"
    }
   },
   "cell_type": "code",
   "source": "df = pd.read_csv('/Users/ashfaqsalehin/Downloads/wiki.csv')",
   "id": "fcf4da7d9a27aa66",
   "outputs": [],
   "execution_count": 18
  },
  {
   "metadata": {
    "ExecuteTime": {
     "end_time": "2025-06-27T10:59:05.260438Z",
     "start_time": "2025-06-27T10:59:05.255803Z"
    }
   },
   "cell_type": "code",
   "source": "df['ts'].unique()",
   "id": "9b5f7217bf22b97e",
   "outputs": [
    {
     "data": {
      "text/plain": [
       "array([ 0.        , 13.20056788, 26.40113576, 39.60170364, 52.80227152,\n",
       "       66.0028394 ])"
      ]
     },
     "execution_count": 19,
     "metadata": {},
     "output_type": "execute_result"
    }
   ],
   "execution_count": 19
  },
  {
   "metadata": {
    "ExecuteTime": {
     "end_time": "2025-06-29T17:02:33.924302Z",
     "start_time": "2025-06-29T17:02:11.521620Z"
    }
   },
   "cell_type": "code",
   "source": [
    "import pandas as pd\n",
    "\n",
    "df = pd.read_csv('/Users/ashfaqsalehin/Downloads/tgbl-flight-v2/tgbl-flight_edgelist_v2.csv')"
   ],
   "id": "189c9c1ccbf2de74",
   "outputs": [],
   "execution_count": 42
  },
  {
   "metadata": {
    "ExecuteTime": {
     "end_time": "2025-06-29T17:02:33.952794Z",
     "start_time": "2025-06-29T17:02:33.948558Z"
    }
   },
   "cell_type": "code",
   "source": "df.columns",
   "id": "5e10cc35d0a9e255",
   "outputs": [
    {
     "data": {
      "text/plain": [
       "Index(['timestamp', 'src', 'dst', 'callsign', 'typecode'], dtype='object')"
      ]
     },
     "execution_count": 43,
     "metadata": {},
     "output_type": "execute_result"
    }
   ],
   "execution_count": 43
  },
  {
   "metadata": {
    "ExecuteTime": {
     "end_time": "2025-06-29T17:02:59.605957Z",
     "start_time": "2025-06-29T17:02:46.703039Z"
    }
   },
   "cell_type": "code",
   "source": [
    "from sklearn.preprocessing import LabelEncoder\n",
    "\n",
    "all_nodes = pd.concat([df['src'], df['dst']], ignore_index=True).unique()\n",
    "\n",
    "# Initialize and fit label encoder on all unique nodes\n",
    "label_encoder = LabelEncoder()\n",
    "label_encoder.fit(all_nodes)\n",
    "\n",
    "# Transform user_id and item_id using the same encoder\n",
    "df['src'] = label_encoder.transform(df['src'])\n",
    "df['dst'] = label_encoder.transform(df['dst'])"
   ],
   "id": "b58851924ed85294",
   "outputs": [],
   "execution_count": 44
  },
  {
   "metadata": {
    "ExecuteTime": {
     "end_time": "2025-06-29T17:03:01.002095Z",
     "start_time": "2025-06-29T17:02:59.609048Z"
    }
   },
   "cell_type": "code",
   "source": "df = df[['src', 'dst', 'timestamp']]",
   "id": "8cb66c4998bc3af4",
   "outputs": [],
   "execution_count": 45
  },
  {
   "metadata": {
    "ExecuteTime": {
     "end_time": "2025-06-29T17:03:07.466983Z",
     "start_time": "2025-06-29T17:03:04.658680Z"
    }
   },
   "cell_type": "code",
   "source": [
    "df.columns = ['u', 'i', 'ts']\n",
    "df = df.sort_values('ts').reset_index(drop=True)\n",
    "\n",
    "original_min_ts = df['ts'].min()\n",
    "if original_min_ts < 0:\n",
    "    df['ts'] = df['ts'] - original_min_ts"
   ],
   "id": "93947a36f9e97a74",
   "outputs": [],
   "execution_count": 46
  },
  {
   "metadata": {
    "ExecuteTime": {
     "end_time": "2025-06-29T17:04:02.653407Z",
     "start_time": "2025-06-29T17:03:23.402489Z"
    }
   },
   "cell_type": "code",
   "source": "df.to_csv('/Users/ashfaqsalehin/Documents/other_datasets/flight.csv', index=False)",
   "id": "a154cc7a54fb0024",
   "outputs": [],
   "execution_count": 47
  },
  {
   "metadata": {
    "ExecuteTime": {
     "end_time": "2025-06-29T17:04:09.421587Z",
     "start_time": "2025-06-29T17:04:02.657591Z"
    }
   },
   "cell_type": "code",
   "source": [
    "df = pd.read_csv('/Users/ashfaqsalehin/Documents/other_datasets/flight.csv')\n",
    "len(df)"
   ],
   "id": "f6ced207f9d4f55",
   "outputs": [
    {
     "data": {
      "text/plain": [
       "67169570"
      ]
     },
     "execution_count": 48,
     "metadata": {},
     "output_type": "execute_result"
    }
   ],
   "execution_count": 48
  },
  {
   "metadata": {
    "ExecuteTime": {
     "end_time": "2025-07-02T16:36:12.126679Z",
     "start_time": "2025-07-02T16:33:12.895855Z"
    }
   },
   "cell_type": "code",
   "source": [
    "from tgb.linkproppred.dataset import LinkPropPredDataset\n",
    "\n",
    "name = \"tgbl-coin\"\n",
    "\n",
    "dataset = LinkPropPredDataset(name=name, root=\"datasets\", preprocess=True)\n",
    "\n",
    "data = dataset.full_data"
   ],
   "id": "c9a07dde495f9cb",
   "outputs": [
    {
     "name": "stdout",
     "output_type": "stream",
     "text": [
      "Dataset tgbl-coin version 2 not found.\n",
      "Please download the latest version of the dataset.\n",
      "\u001B[93mDownload started, this might take a while . . . \u001B[0m\n",
      "Dataset title: tgbl-coin\n",
      "\u001B[92mDownload completed \u001B[0m\n",
      "Dataset directory is  /Users/ashfaqsalehin/PycharmProjects/temporal-random-walk-test/.venv/lib/python3.10/site-packages/tgb/datasets/tgbl_coin\n",
      "file not processed, generating processed file\n",
      "number of lines counted 22809486\n",
      "numpy allocated\n"
     ]
    },
    {
     "name": "stderr",
     "output_type": "stream",
     "text": [
      "22809487it [00:50, 455805.56it/s]\n"
     ]
    }
   ],
   "execution_count": 1
  },
  {
   "metadata": {
    "ExecuteTime": {
     "end_time": "2025-07-01T12:50:07.109698Z",
     "start_time": "2025-07-01T12:50:07.107320Z"
    }
   },
   "cell_type": "code",
   "source": "full_data = dataset.full_data",
   "id": "87c6eed9bf8b577e",
   "outputs": [],
   "execution_count": 19
  },
  {
   "metadata": {
    "ExecuteTime": {
     "end_time": "2025-07-01T12:50:08.030231Z",
     "start_time": "2025-07-01T12:50:07.867123Z"
    }
   },
   "cell_type": "code",
   "source": [
    "train_sources = full_data['sources'][dataset.train_mask]\n",
    "train_targets = full_data['destinations'][dataset.train_mask]\n",
    "train_timestamps = full_data['timestamps'][dataset.train_mask]\n",
    "\n",
    "val_sources = full_data['sources'][dataset.val_mask]\n",
    "val_targets = full_data['destinations'][dataset.val_mask]\n",
    "val_timestamps = full_data['timestamps'][dataset.val_mask]\n",
    "\n",
    "test_sources = full_data['sources'][dataset.test_mask]\n",
    "test_targets = full_data['destinations'][dataset.test_mask]\n",
    "test_timestamps = full_data['timestamps'][dataset.test_mask]"
   ],
   "id": "1ea0401ab5ff8eac",
   "outputs": [],
   "execution_count": 20
  },
  {
   "metadata": {
    "ExecuteTime": {
     "end_time": "2025-07-01T12:50:19.557861Z",
     "start_time": "2025-07-01T12:50:08.911109Z"
    }
   },
   "cell_type": "code",
   "source": "dataset.load_val_ns()",
   "id": "d675a037e584d34a",
   "outputs": [],
   "execution_count": 21
  },
  {
   "metadata": {},
   "cell_type": "code",
   "outputs": [],
   "execution_count": null,
   "source": [
    "import torch\n",
    "\n",
    "val_sources_tensor = torch.tensor(val_sources)\n",
    "val_targets_tensor = torch.tensor(val_targets)\n",
    "val_timestamps_tensor = torch.tensor(val_timestamps)\n",
    "\n",
    "dataset.ns_sampler.query_batch(val_sources_tensor, )"
   ],
   "id": "3a6034f6e9f90ff3"
  },
  {
   "metadata": {
    "ExecuteTime": {
     "end_time": "2025-07-11T12:51:15.411204Z",
     "start_time": "2025-07-11T12:50:35.417543Z"
    }
   },
   "cell_type": "code",
   "source": [
    "import pandas as pd\n",
    "import numpy as np\n",
    "\n",
    "df = pd.read_csv('/Users/ashfaqsalehin/Downloads/TEA-datasets/csv_datasets/yahoo-song.csv')\n",
    "ts = df['ts'].to_numpy()\n",
    "unique_timestamps = np.unique(ts)\n",
    "\n",
    "unique_timestamps.sort()"
   ],
   "id": "605c2af79f5a8616",
   "outputs": [],
   "execution_count": 19
  },
  {
   "metadata": {
    "ExecuteTime": {
     "end_time": "2025-07-11T19:23:16.929492Z",
     "start_time": "2025-07-11T19:23:16.812500Z"
    }
   },
   "cell_type": "code",
   "source": "len(unique_timestamps), list(unique_timestamps).index(264101580)",
   "id": "7dcb54c31fe20b32",
   "outputs": [
    {
     "data": {
      "text/plain": [
       "(4357526, 103517)"
      ]
     },
     "execution_count": 98,
     "metadata": {},
     "output_type": "execute_result"
    }
   ],
   "execution_count": 98
  },
  {
   "metadata": {},
   "cell_type": "markdown",
   "source": "",
   "id": "3adcbeaacb7d6fc0"
  },
  {
   "metadata": {
    "ExecuteTime": {
     "end_time": "2025-07-12T14:09:13.389119Z",
     "start_time": "2025-07-12T14:08:59.943330Z"
    }
   },
   "cell_type": "code",
   "source": "df = pd.read_parquet('/Users/ashfaqsalehin/Downloads/4_hour_data.parquet')",
   "id": "4a3d75c1cd568fb2",
   "outputs": [],
   "execution_count": 99
  },
  {
   "metadata": {
    "ExecuteTime": {
     "end_time": "2025-07-12T14:09:28.475323Z",
     "start_time": "2025-07-12T14:09:28.460294Z"
    }
   },
   "cell_type": "code",
   "source": "df",
   "id": "2edd7cbe3b3a1b6a",
   "outputs": [
    {
     "data": {
      "text/plain": [
       "                u      i         ts\n",
       "5789660015  65094  17932   86400000\n",
       "5789660052  51804  51804   86400000\n",
       "5789660053  44870  52118   86400000\n",
       "5789660054  44870  22617   86400000\n",
       "5789660055  64996  27884   86400000\n",
       "...           ...    ...        ...\n",
       "6494499987  54423  18819  100799999\n",
       "6494499986  67001  31913  100799999\n",
       "6494500014  67001  62215  100799999\n",
       "6494499999  64996  27884  100799999\n",
       "6494500015   6664  31119  100799999\n",
       "\n",
       "[704840001 rows x 3 columns]"
      ],
      "text/html": [
       "<div>\n",
       "<style scoped>\n",
       "    .dataframe tbody tr th:only-of-type {\n",
       "        vertical-align: middle;\n",
       "    }\n",
       "\n",
       "    .dataframe tbody tr th {\n",
       "        vertical-align: top;\n",
       "    }\n",
       "\n",
       "    .dataframe thead th {\n",
       "        text-align: right;\n",
       "    }\n",
       "</style>\n",
       "<table border=\"1\" class=\"dataframe\">\n",
       "  <thead>\n",
       "    <tr style=\"text-align: right;\">\n",
       "      <th></th>\n",
       "      <th>u</th>\n",
       "      <th>i</th>\n",
       "      <th>ts</th>\n",
       "    </tr>\n",
       "  </thead>\n",
       "  <tbody>\n",
       "    <tr>\n",
       "      <th>5789660015</th>\n",
       "      <td>65094</td>\n",
       "      <td>17932</td>\n",
       "      <td>86400000</td>\n",
       "    </tr>\n",
       "    <tr>\n",
       "      <th>5789660052</th>\n",
       "      <td>51804</td>\n",
       "      <td>51804</td>\n",
       "      <td>86400000</td>\n",
       "    </tr>\n",
       "    <tr>\n",
       "      <th>5789660053</th>\n",
       "      <td>44870</td>\n",
       "      <td>52118</td>\n",
       "      <td>86400000</td>\n",
       "    </tr>\n",
       "    <tr>\n",
       "      <th>5789660054</th>\n",
       "      <td>44870</td>\n",
       "      <td>22617</td>\n",
       "      <td>86400000</td>\n",
       "    </tr>\n",
       "    <tr>\n",
       "      <th>5789660055</th>\n",
       "      <td>64996</td>\n",
       "      <td>27884</td>\n",
       "      <td>86400000</td>\n",
       "    </tr>\n",
       "    <tr>\n",
       "      <th>...</th>\n",
       "      <td>...</td>\n",
       "      <td>...</td>\n",
       "      <td>...</td>\n",
       "    </tr>\n",
       "    <tr>\n",
       "      <th>6494499987</th>\n",
       "      <td>54423</td>\n",
       "      <td>18819</td>\n",
       "      <td>100799999</td>\n",
       "    </tr>\n",
       "    <tr>\n",
       "      <th>6494499986</th>\n",
       "      <td>67001</td>\n",
       "      <td>31913</td>\n",
       "      <td>100799999</td>\n",
       "    </tr>\n",
       "    <tr>\n",
       "      <th>6494500014</th>\n",
       "      <td>67001</td>\n",
       "      <td>62215</td>\n",
       "      <td>100799999</td>\n",
       "    </tr>\n",
       "    <tr>\n",
       "      <th>6494499999</th>\n",
       "      <td>64996</td>\n",
       "      <td>27884</td>\n",
       "      <td>100799999</td>\n",
       "    </tr>\n",
       "    <tr>\n",
       "      <th>6494500015</th>\n",
       "      <td>6664</td>\n",
       "      <td>31119</td>\n",
       "      <td>100799999</td>\n",
       "    </tr>\n",
       "  </tbody>\n",
       "</table>\n",
       "<p>704840001 rows × 3 columns</p>\n",
       "</div>"
      ]
     },
     "execution_count": 100,
     "metadata": {},
     "output_type": "execute_result"
    }
   ],
   "execution_count": 100
  },
  {
   "metadata": {
    "ExecuteTime": {
     "end_time": "2025-07-12T14:10:08.734454Z",
     "start_time": "2025-07-12T14:09:43.047096Z"
    }
   },
   "cell_type": "code",
   "source": "unique_timestamps = np.unique(df['ts'].to_numpy())",
   "id": "2eea4834aac35d87",
   "outputs": [],
   "execution_count": 101
  },
  {
   "metadata": {
    "ExecuteTime": {
     "end_time": "2025-07-18T20:32:40.277896Z",
     "start_time": "2025-07-18T20:32:40.231112Z"
    }
   },
   "cell_type": "code",
   "source": [
    "import numpy as np\n",
    "from typing import Tuple, Optional\n",
    "\n",
    "\n",
    "def generate_temporal_graph(num_nodes: int,\n",
    "                           num_edges: int,\n",
    "                           num_timestamps: int,\n",
    "                           time_range: Tuple[int, int] = (0, 1_000_000_000),\n",
    "                           random_state: Optional[int] = None) -> Tuple[np.ndarray, np.ndarray, np.ndarray]:\n",
    "    if random_state is not None:\n",
    "        np.random.seed(random_state)\n",
    "\n",
    "    if num_edges <= 0:\n",
    "        return np.array([]), np.array([]), np.array([])\n",
    "\n",
    "    if num_timestamps <= 0 or num_nodes <= 0:\n",
    "        raise ValueError(\"num_timestamps and num_nodes must be positive\")\n",
    "\n",
    "    # Step 1: Generate exactly num_timestamps unique timestamps\n",
    "    min_time, max_time = time_range\n",
    "\n",
    "    # Ensure we have enough range for unique timestamps\n",
    "    time_span = max_time - min_time + 1\n",
    "    if num_timestamps > time_span:\n",
    "        raise ValueError(f\"Cannot generate {num_timestamps} unique timestamps in range {time_range}\")\n",
    "\n",
    "    # Generate exactly num_timestamps unique timestamps\n",
    "    unique_timestamps = np.random.choice(\n",
    "        np.arange(min_time, max_time + 1, dtype=np.int64),\n",
    "        size=num_timestamps,\n",
    "        replace=False\n",
    "    )\n",
    "    unique_timestamps = np.sort(unique_timestamps)\n",
    "\n",
    "    # Step 2: Randomly assign each edge to one of the timestamps\n",
    "    edge_timestamps = np.random.choice(unique_timestamps, size=num_edges)\n",
    "\n",
    "    # Step 3: Generate random source and target nodes (self-loops allowed)\n",
    "    sources = np.random.randint(0, num_nodes, size=num_edges)\n",
    "    targets = np.random.randint(0, num_nodes, size=num_edges)\n",
    "\n",
    "    # Step 4: Sort everything by timestamp\n",
    "    sort_indices = np.argsort(edge_timestamps)\n",
    "\n",
    "    return (sources[sort_indices],\n",
    "            targets[sort_indices],\n",
    "            edge_timestamps[sort_indices])"
   ],
   "id": "300a7927a4af48f1",
   "outputs": [],
   "execution_count": 1
  },
  {
   "metadata": {
    "ExecuteTime": {
     "end_time": "2025-07-18T21:15:18.080609Z",
     "start_time": "2025-07-18T21:15:18.077942Z"
    }
   },
   "cell_type": "code",
   "source": "np.logspace(start=1, stop=8, num=8, base=10, dtype=int)",
   "id": "586728e792965e9c",
   "outputs": [
    {
     "data": {
      "text/plain": [
       "array([       10,       100,      1000,     10000,    100000,   1000000,\n",
       "        10000000, 100000000])"
      ]
     },
     "execution_count": 5,
     "metadata": {},
     "output_type": "execute_result"
    }
   ],
   "execution_count": 5
  },
  {
   "metadata": {
    "ExecuteTime": {
     "end_time": "2025-08-25T16:43:55.133874Z",
     "start_time": "2025-08-25T16:33:34.883911Z"
    }
   },
   "cell_type": "code",
   "source": [
    "import json\n",
    "\n",
    "with open('/Users/ashfaqsalehin/Downloads/twibot22/tweet_0.json', 'r') as file:\n",
    "    loaded_data = json.load(file)"
   ],
   "id": "e9fb126f74e76728",
   "outputs": [],
   "execution_count": 19
  },
  {
   "metadata": {
    "ExecuteTime": {
     "end_time": "2025-08-25T17:39:07.932235Z",
     "start_time": "2025-08-25T17:39:07.900947Z"
    }
   },
   "cell_type": "code",
   "source": "len(loaded_data)",
   "id": "eff5d6cbe4fe261c",
   "outputs": [
    {
     "data": {
      "text/plain": [
       "10000000"
      ]
     },
     "execution_count": 20,
     "metadata": {},
     "output_type": "execute_result"
    }
   ],
   "execution_count": 20
  },
  {
   "metadata": {
    "ExecuteTime": {
     "end_time": "2025-08-26T05:14:12.121180Z",
     "start_time": "2025-08-26T05:14:12.003637Z"
    }
   },
   "cell_type": "code",
   "source": "loaded_data[10]",
   "id": "4a90ffd6b830554f",
   "outputs": [
    {
     "ename": "NameError",
     "evalue": "name 'loaded_data' is not defined",
     "output_type": "error",
     "traceback": [
      "\u001B[0;31m---------------------------------------------------------------------------\u001B[0m",
      "\u001B[0;31mNameError\u001B[0m                                 Traceback (most recent call last)",
      "Cell \u001B[0;32mIn[1], line 1\u001B[0m\n\u001B[0;32m----> 1\u001B[0m \u001B[43mloaded_data\u001B[49m[\u001B[38;5;241m10\u001B[39m]\n",
      "\u001B[0;31mNameError\u001B[0m: name 'loaded_data' is not defined"
     ]
    }
   ],
   "execution_count": 1
  },
  {
   "metadata": {
    "ExecuteTime": {
     "end_time": "2025-08-25T18:09:10.439513Z",
     "start_time": "2025-08-25T18:09:10.422772Z"
    }
   },
   "cell_type": "code",
   "source": [
    "from datetime import datetime\n",
    "\n",
    "dt = datetime.fromisoformat(loaded_data[0]['created_at'])\n",
    "unix_timestamp = dt.timestamp()"
   ],
   "id": "a27845272758290c",
   "outputs": [],
   "execution_count": 28
  },
  {
   "metadata": {
    "ExecuteTime": {
     "end_time": "2025-08-25T18:09:12.728856Z",
     "start_time": "2025-08-25T18:09:12.725697Z"
    }
   },
   "cell_type": "code",
   "source": "unix_timestamp",
   "id": "bb8430504ea74679",
   "outputs": [
    {
     "data": {
      "text/plain": [
       "1645937975.0"
      ]
     },
     "execution_count": 29,
     "metadata": {},
     "output_type": "execute_result"
    }
   ],
   "execution_count": 29
  },
  {
   "metadata": {
    "ExecuteTime": {
     "end_time": "2025-08-28T09:45:20.700914Z",
     "start_time": "2025-08-28T09:44:59.581918Z"
    }
   },
   "cell_type": "code",
   "source": [
    "import pandas as pd\n",
    "\n",
    "edges_data = pd.read_csv('/Users/ashfaqsalehin/Downloads/twibot22_preprocessed/edges.csv')"
   ],
   "id": "36ef209a7d75d584",
   "outputs": [],
   "execution_count": 2
  },
  {
   "metadata": {
    "ExecuteTime": {
     "end_time": "2025-08-28T09:45:25.729319Z",
     "start_time": "2025-08-28T09:45:25.722554Z"
    }
   },
   "cell_type": "code",
   "source": "edges_data",
   "id": "7c16ee180afb3cbe",
   "outputs": [
    {
     "data": {
      "text/plain": [
       "                 u        i          ts   relation\n",
       "0          9680911   647792  1179510562  mentioned\n",
       "1          9680911   647792  1179510562    replied\n",
       "2          9680911   647792  1179708838  mentioned\n",
       "3          9680911   647792  1179708838    replied\n",
       "4          8045335  1478968  1180688723    replied\n",
       "...            ...      ...         ...        ...\n",
       "114968515  8849105  6176846  1647273198  mentioned\n",
       "114968516  8849105  6176846  1647273198    replied\n",
       "114968517  8849105  2874398  1647273268  mentioned\n",
       "114968518  6910750  6910750  1647294105    replied\n",
       "114968519  4492771  4492771  1647305711    replied\n",
       "\n",
       "[114968520 rows x 4 columns]"
      ],
      "text/html": [
       "<div>\n",
       "<style scoped>\n",
       "    .dataframe tbody tr th:only-of-type {\n",
       "        vertical-align: middle;\n",
       "    }\n",
       "\n",
       "    .dataframe tbody tr th {\n",
       "        vertical-align: top;\n",
       "    }\n",
       "\n",
       "    .dataframe thead th {\n",
       "        text-align: right;\n",
       "    }\n",
       "</style>\n",
       "<table border=\"1\" class=\"dataframe\">\n",
       "  <thead>\n",
       "    <tr style=\"text-align: right;\">\n",
       "      <th></th>\n",
       "      <th>u</th>\n",
       "      <th>i</th>\n",
       "      <th>ts</th>\n",
       "      <th>relation</th>\n",
       "    </tr>\n",
       "  </thead>\n",
       "  <tbody>\n",
       "    <tr>\n",
       "      <th>0</th>\n",
       "      <td>9680911</td>\n",
       "      <td>647792</td>\n",
       "      <td>1179510562</td>\n",
       "      <td>mentioned</td>\n",
       "    </tr>\n",
       "    <tr>\n",
       "      <th>1</th>\n",
       "      <td>9680911</td>\n",
       "      <td>647792</td>\n",
       "      <td>1179510562</td>\n",
       "      <td>replied</td>\n",
       "    </tr>\n",
       "    <tr>\n",
       "      <th>2</th>\n",
       "      <td>9680911</td>\n",
       "      <td>647792</td>\n",
       "      <td>1179708838</td>\n",
       "      <td>mentioned</td>\n",
       "    </tr>\n",
       "    <tr>\n",
       "      <th>3</th>\n",
       "      <td>9680911</td>\n",
       "      <td>647792</td>\n",
       "      <td>1179708838</td>\n",
       "      <td>replied</td>\n",
       "    </tr>\n",
       "    <tr>\n",
       "      <th>4</th>\n",
       "      <td>8045335</td>\n",
       "      <td>1478968</td>\n",
       "      <td>1180688723</td>\n",
       "      <td>replied</td>\n",
       "    </tr>\n",
       "    <tr>\n",
       "      <th>...</th>\n",
       "      <td>...</td>\n",
       "      <td>...</td>\n",
       "      <td>...</td>\n",
       "      <td>...</td>\n",
       "    </tr>\n",
       "    <tr>\n",
       "      <th>114968515</th>\n",
       "      <td>8849105</td>\n",
       "      <td>6176846</td>\n",
       "      <td>1647273198</td>\n",
       "      <td>mentioned</td>\n",
       "    </tr>\n",
       "    <tr>\n",
       "      <th>114968516</th>\n",
       "      <td>8849105</td>\n",
       "      <td>6176846</td>\n",
       "      <td>1647273198</td>\n",
       "      <td>replied</td>\n",
       "    </tr>\n",
       "    <tr>\n",
       "      <th>114968517</th>\n",
       "      <td>8849105</td>\n",
       "      <td>2874398</td>\n",
       "      <td>1647273268</td>\n",
       "      <td>mentioned</td>\n",
       "    </tr>\n",
       "    <tr>\n",
       "      <th>114968518</th>\n",
       "      <td>6910750</td>\n",
       "      <td>6910750</td>\n",
       "      <td>1647294105</td>\n",
       "      <td>replied</td>\n",
       "    </tr>\n",
       "    <tr>\n",
       "      <th>114968519</th>\n",
       "      <td>4492771</td>\n",
       "      <td>4492771</td>\n",
       "      <td>1647305711</td>\n",
       "      <td>replied</td>\n",
       "    </tr>\n",
       "  </tbody>\n",
       "</table>\n",
       "<p>114968520 rows × 4 columns</p>\n",
       "</div>"
      ]
     },
     "execution_count": 3,
     "metadata": {},
     "output_type": "execute_result"
    }
   ],
   "execution_count": 3
  },
  {
   "metadata": {
    "ExecuteTime": {
     "end_time": "2025-08-28T10:41:53.150130Z",
     "start_time": "2025-08-28T10:41:51.802237Z"
    }
   },
   "cell_type": "code",
   "source": [
    "# Min/max ts, divide into N buckets, plot edge counts\n",
    "\n",
    "import numpy as np\n",
    "import matplotlib.pyplot as plt\n",
    "from datetime import datetime\n",
    "\n",
    "NUM_BUCKETS = 20  # ← change this if you want\n",
    "\n",
    "# grab timestamps\n",
    "ts = pd.to_numeric(edges_data[\"ts\"], errors=\"coerce\").dropna().to_numpy()\n",
    "\n",
    "# if timestamps look like milliseconds, convert to seconds\n",
    "if ts.max() > 1_000_000_000_000:\n",
    "    ts = (ts // 1000).astype(np.int64)\n",
    "else:\n",
    "    ts = ts.astype(np.int64)\n",
    "\n",
    "ts_min = int(ts.min())\n",
    "ts_max = int(ts.max())\n",
    "\n",
    "print(f\"min_ts: {ts_min} ({datetime.utcfromtimestamp(ts_min).isoformat()}Z)\")\n",
    "print(f\"max_ts: {ts_max} ({datetime.utcfromtimestamp(ts_max).isoformat()}Z)\")\n",
    "\n",
    "# bucketize uniformly over [min, max]\n",
    "counts, bin_edges = np.histogram(ts, bins=NUM_BUCKETS, range=(ts_min, ts_max + 1))\n",
    "\n",
    "bucket_width = (ts_max - ts_min) / NUM_BUCKETS\n",
    "print(f\"buckets: {NUM_BUCKETS}, approx bucket width: {bucket_width:.2f} sec (~{bucket_width/86400:.2f} days)\")\n",
    "print(f\"median edges/bucket: {np.median(counts):.0f}, empty buckets: {(counts==0).sum()}\")\n",
    "\n",
    "# plot\n",
    "plt.figure(figsize=(10, 4))\n",
    "plt.bar(np.arange(NUM_BUCKETS), counts)\n",
    "plt.title(f\"Edges per bucket — {NUM_BUCKETS} buckets\")\n",
    "plt.xlabel(\"Bucket index (chronological)\")\n",
    "plt.ylabel(\"Edges in bucket\")\n",
    "plt.tight_layout()\n",
    "plt.show()"
   ],
   "id": "970cc7615b400892",
   "outputs": [
    {
     "name": "stdout",
     "output_type": "stream",
     "text": [
      "min_ts: 1179510562 (2007-05-18T17:49:22Z)\n",
      "max_ts: 1647305711 (2022-03-15T00:55:11Z)\n",
      "buckets: 20, approx bucket width: 23389757.45 sec (~270.71 days)\n",
      "median edges/bucket: 305642, empty buckets: 0\n"
     ]
    },
    {
     "data": {
      "text/plain": [
       "<Figure size 1000x400 with 1 Axes>"
      ],
      "image/png": "[encoded data removed]"
     },
     "metadata": {},
     "output_type": "display_data"
    }
   ],
   "execution_count": 12
  },
  {
   "metadata": {
    "ExecuteTime": {
     "end_time": "2025-08-28T10:42:31.914793Z",
     "start_time": "2025-08-28T10:42:31.911887Z"
    }
   },
   "cell_type": "code",
   "source": "counts",
   "id": "98db5f9c9af31ae2",
   "outputs": [
    {
     "data": {
      "text/plain": [
       "array([      74,      492,    10573,    21877,    37656,    79956,\n",
       "         115066,   160925,   202330,   267085,   344198,   398353,\n",
       "         498628,   676792,   910375,  1228800,  1826892,  3606847,\n",
       "        7590299, 96991302])"
      ]
     },
     "execution_count": 13,
     "metadata": {},
     "output_type": "execute_result"
    }
   ],
   "execution_count": 13
  },
  {
   "metadata": {
    "ExecuteTime": {
     "end_time": "2025-08-30T14:03:02.490169Z",
     "start_time": "2025-08-30T14:03:02.485210Z"
    }
   },
   "cell_type": "code",
   "source": [
    "import os\n",
    "import pandas as pd\n",
    "import numpy as np\n",
    "\n",
    "def _load_edges(data_path):\n",
    "    edges_path = os.path.join(data_path, 'edges.csv')\n",
    "    df = pd.read_csv(edges_path)\n",
    "    df = df[[\"u\", \"i\", \"ts\"]].copy()\n",
    "    df = df.dropna().astype({\"u\": np.int32, \"i\": np.int32, \"ts\": np.int64})\n",
    "    return df\n",
    "\n",
    "\n",
    "def _load_labelled_splits(data_path):\n",
    "    labels = pd.read_csv(os.path.join(data_path, 'labels.csv'), usecols=['id', 'label'])\n",
    "    labels_dict = {int(i): (1 if lbl == 'bot' else 0) for i, lbl in zip(labels['id'], labels['label'])}\n",
    "\n",
    "    split = pd.read_csv(os.path.join(data_path, 'split.csv'), usecols=['id', 'split'])\n",
    "\n",
    "    def pack(name: str):\n",
    "        ids_all = split.loc[split['split'] == name, 'id'].astype(int).to_numpy()\n",
    "        ids = [i for i in ids_all if i in labels_dict]\n",
    "        y = [labels_dict[i] for i in ids]\n",
    "        return np.array(ids, dtype=np.int32), np.array(y, dtype=np.int32)\n",
    "\n",
    "    train_ids, train_y = pack('train')\n",
    "    val_ids,   val_y   = pack('val')\n",
    "    test_ids,  test_y  = pack('test')\n",
    "\n",
    "    return train_ids, train_y, val_ids, val_y, test_ids, test_y\n"
   ],
   "id": "f0fbb74bb69b0e5",
   "outputs": [],
   "execution_count": 7
  },
  {
   "metadata": {
    "ExecuteTime": {
     "end_time": "2025-08-30T14:04:27.295624Z",
     "start_time": "2025-08-30T14:04:08.305322Z"
    }
   },
   "cell_type": "code",
   "source": [
    "data_path = '/Users/ashfaqsalehin/Downloads/twibot22_preprocessed'\n",
    "edges = _load_edges(data_path)"
   ],
   "id": "65d14b97c3c347f9",
   "outputs": [],
   "execution_count": 9
  },
  {
   "metadata": {
    "ExecuteTime": {
     "end_time": "2025-08-30T14:04:31.731024Z",
     "start_time": "2025-08-30T14:04:31.571823Z"
    }
   },
   "cell_type": "code",
   "source": [
    "labels = pd.read_csv(os.path.join(data_path, 'labels.csv'), usecols=['id', 'label'])\n",
    "split = pd.read_csv(os.path.join(data_path, 'split.csv'), usecols=['id', 'split'])"
   ],
   "id": "9045f35e380998e",
   "outputs": [],
   "execution_count": 10
  },
  {
   "metadata": {
    "ExecuteTime": {
     "end_time": "2025-08-30T14:10:45.441354Z",
     "start_time": "2025-08-30T14:10:26.774275Z"
    }
   },
   "cell_type": "code",
   "source": [
    "edge_node_set = set(np.concatenate([edges['u'].to_numpy(), edges['i'].to_numpy()]))\n",
    "split_node_set = set(split['id'].to_numpy())"
   ],
   "id": "2072779617bdd00a",
   "outputs": [],
   "execution_count": 11
  },
  {
   "metadata": {
    "ExecuteTime": {
     "end_time": "2025-08-30T14:13:08.018027Z",
     "start_time": "2025-08-30T14:13:07.921956Z"
    }
   },
   "cell_type": "code",
   "source": "label_node_set = set(labels['id'].to_numpy())",
   "id": "de52d832773d85b2",
   "outputs": [],
   "execution_count": 14
  },
  {
   "metadata": {
    "ExecuteTime": {
     "end_time": "2025-08-30T14:13:39.410790Z",
     "start_time": "2025-08-30T14:13:39.046081Z"
    }
   },
   "cell_type": "code",
   "source": [
    "split_missing_in_edge = split_node_set - edge_node_set\n",
    "label_missing_in_edge = label_node_set - edge_node_set\n",
    "len(split_node_set), len(split_missing_in_edge), len(label_node_set), len(label_missing_in_edge)"
   ],
   "id": "82fef111c0fef58d",
   "outputs": [
    {
     "data": {
      "text/plain": [
       "(1000000, 83130, 1000000, 83130)"
      ]
     },
     "execution_count": 15,
     "metadata": {},
     "output_type": "execute_result"
    }
   ],
   "execution_count": 15
  },
  {
   "metadata": {
    "ExecuteTime": {
     "end_time": "2025-08-30T15:26:15.990371Z",
     "start_time": "2025-08-30T15:26:15.944815Z"
    }
   },
   "cell_type": "code",
   "source": "len(label_node_set - split_node_set)",
   "id": "3501171866c34809",
   "outputs": [
    {
     "data": {
      "text/plain": [
       "0"
      ]
     },
     "execution_count": 17,
     "metadata": {},
     "output_type": "execute_result"
    }
   ],
   "execution_count": 17
  },
  {
   "metadata": {
    "ExecuteTime": {
     "end_time": "2025-08-29T22:42:39.541561Z",
     "start_time": "2025-08-29T22:42:38.700456Z"
    }
   },
   "cell_type": "code",
   "source": "train_ids, train_y, val_ids, val_y, test_ids, test_y = _load_labelled_splits('/Users/ashfaqsalehin/Downloads/twibot22_preprocessed')",
   "id": "51061bb563f4c2f6",
   "outputs": [],
   "execution_count": 20
  },
  {
   "metadata": {
    "ExecuteTime": {
     "end_time": "2025-08-29T22:42:48.353253Z",
     "start_time": "2025-08-29T22:42:48.350479Z"
    }
   },
   "cell_type": "code",
   "source": "train_y",
   "id": "6216adeb3cc8a2eb",
   "outputs": [
    {
     "data": {
      "text/plain": [
       "array([0, 0, 1, ..., 0, 0, 0], dtype=int32)"
      ]
     },
     "execution_count": 21,
     "metadata": {},
     "output_type": "execute_result"
    }
   ],
   "execution_count": 21
  },
  {
   "metadata": {
    "ExecuteTime": {
     "end_time": "2025-08-29T22:44:36.547667Z",
     "start_time": "2025-08-29T22:44:36.544827Z"
    }
   },
   "cell_type": "code",
   "source": "unique_elements, counts = np.unique(test_y, return_counts=True)",
   "id": "f027c2125397fd7d",
   "outputs": [],
   "execution_count": 26
  },
  {
   "metadata": {
    "ExecuteTime": {
     "end_time": "2025-08-29T22:44:37.040210Z",
     "start_time": "2025-08-29T22:44:37.037988Z"
    }
   },
   "cell_type": "code",
   "source": "counts",
   "id": "92b3ad46916a35b4",
   "outputs": [
    {
     "data": {
      "text/plain": [
       "array([70556, 29444])"
      ]
     },
     "execution_count": 27,
     "metadata": {},
     "output_type": "execute_result"
    }
   ],
   "execution_count": 27
  },
  {
   "metadata": {
    "ExecuteTime": {
     "end_time": "2025-09-05T07:54:42.268896Z",
     "start_time": "2025-09-05T07:54:41.712845Z"
    }
   },
   "cell_type": "code",
   "source": [
    "import numpy as np\n",
    "\n",
    "fin_data = np.load('/Users/ashfaqsalehin/Downloads/DGraphFin/dgraphfin.npz')"
   ],
   "id": "9630c34ffeb1b819",
   "outputs": [],
   "execution_count": 1
  },
  {
   "metadata": {
    "ExecuteTime": {
     "end_time": "2025-09-05T07:54:45.727965Z",
     "start_time": "2025-09-05T07:54:45.724268Z"
    }
   },
   "cell_type": "code",
   "source": "fin_data",
   "id": "b5eb45ea8630b7c8",
   "outputs": [
    {
     "data": {
      "text/plain": [
       "NpzFile '/Users/ashfaqsalehin/Downloads/DGraphFin/dgraphfin.npz' with keys: x, y, edge_index, edge_type, edge_timestamp..."
      ]
     },
     "execution_count": 2,
     "metadata": {},
     "output_type": "execute_result"
    }
   ],
   "execution_count": 2
  },
  {
   "metadata": {
    "ExecuteTime": {
     "end_time": "2025-09-05T10:47:17.003274Z",
     "start_time": "2025-09-05T10:47:16.991981Z"
    }
   },
   "cell_type": "code",
   "source": "fin_data['train_mask']",
   "id": "8a04950489efa093",
   "outputs": [
    {
     "data": {
      "text/plain": [
       "array([2735458, 3025736, 2659385, ...,  572867, 3250251, 1337270])"
      ]
     },
     "execution_count": 12,
     "metadata": {},
     "output_type": "execute_result"
    }
   ],
   "execution_count": 12
  },
  {
   "metadata": {
    "ExecuteTime": {
     "end_time": "2025-09-05T07:57:57.044203Z",
     "start_time": "2025-09-05T07:57:57.011133Z"
    }
   },
   "cell_type": "code",
   "source": "np.min(fin_data['edge_timestamp']), np.max(fin_data['edge_timestamp'])",
   "id": "a347496045f6fa5",
   "outputs": [
    {
     "data": {
      "text/plain": [
       "(1, 821)"
      ]
     },
     "execution_count": 5,
     "metadata": {},
     "output_type": "execute_result"
    }
   ],
   "execution_count": 5
  },
  {
   "metadata": {
    "ExecuteTime": {
     "end_time": "2025-09-05T08:12:33.457847Z",
     "start_time": "2025-09-05T08:12:33.288916Z"
    }
   },
   "cell_type": "code",
   "source": "unique, counts = np.unique(fin_data['edge_timestamp'], return_counts=True)",
   "id": "c5b40796879cd41d",
   "outputs": [],
   "execution_count": 6
  },
  {
   "metadata": {
    "ExecuteTime": {
     "end_time": "2025-09-05T08:12:45.557169Z",
     "start_time": "2025-09-05T08:12:45.553113Z"
    }
   },
   "cell_type": "code",
   "source": "counts",
   "id": "ded5c7c243ac8fcf",
   "outputs": [
    {
     "data": {
      "text/plain": [
       "array([ 4604,  4638,  4581,  4689,  4667,  4655,  4620,  4589,  4671,\n",
       "        4679,  4516,  4679,  4774,  4489,  4655,  4743,  4679,  4581,\n",
       "        4648,  4636,  4626,  4748,  4799,  4647,  4688,  4806,  4632,\n",
       "        4646,  4721,  4757,  4619,  3942,  5048,  5524,  5193,  5292,\n",
       "        5620,  6370,  6386,  6842,  6198,  5966,  5277,  5357,  5785,\n",
       "        5934,  5738,  5507,  5253,  5058,  5314,  5513,  5534,  5063,\n",
       "        5293,  5406,  4581,  4624,  4842,  4736,  4803,  4540,  4811,\n",
       "        4446,  3931,  2463,  1831,  1805,  2056,  2368,  2691,  2614,\n",
       "        3501,  3966,  4144,  4051,  3954,  3878,  3975,  4226,  4186,\n",
       "        4279,  4318,  4275,  3913,  3974,  4301,  3687,  4073,  4231,\n",
       "        4556,  3983,  4059,  4309,  4324,  4379,  4453,  4345,  4012,\n",
       "        3720,  4075,  4009,  4029,  3916,  3980,  3526,  3717,  4141,\n",
       "        4244,  4075,  3797,  3913,  3838,  3712,  4118,  3980,  4102,\n",
       "        4182,  4049,  3900,  4031,  4613,  4564,  4667,  4464,  3891,\n",
       "        3876,  4425,  4754,  4938,  4384,  4106,  3944,  3517,  3277,\n",
       "        3831,  3891,  4004,  4110,  4196,  4104,  3998,  4420,  4664,\n",
       "        4552,  4547,  4616,  4613,  5349,  5109,  5116,  4479,  4142,\n",
       "        4292,  4615,  5674,  5720,  5108,  5467,  5600,  5375,  4429,\n",
       "        4450,  5182,  5189,  5392,  5306,  5168,  4764,  4783,  5631,\n",
       "        5261,  5172,  5359,  5320,  4967,  4907,  5536,  5253,  5197,\n",
       "        5224,  5138,  5075,  5354,  5970,  5850,  5806,  5503,  4778,\n",
       "        4920,  5573,  6078,  5750,  5544,  5297,  5208,  4931,  5069,\n",
       "        5433,  5705,  6097,  6350,  6159,  5509,  5759,  6188,  6163,\n",
       "        5948,  5828,  5533,  5149,  5291,  6474,  6225,  5975,  6198,\n",
       "        6223,  6074,  5975,  6556,  6468,  5969,  5810,  5792,  5818,\n",
       "        5265,  5637,  5849,  6163,  5999,  6204,  6362,  5887,  5973,\n",
       "        5594,  5413,  5190,  6095,  6445,  5457,  5286,  5737,  5702,\n",
       "        6004,  6241,  5824,  5698,  5969,  6020,  5868,  5503,  6037,\n",
       "        5256,  4980,  4844,  4380,  4169,  4437,  4166,  4075,  3988,\n",
       "        4189,  4210,  4284,  4006,  4131,  3883,  4019,  4063,  4254,\n",
       "        4271,  4206,  4018,  3994,  4295,  4552,  4412,  4203,  4277,\n",
       "        4267,  4317,  4438,  4706,  4311,  4089,  3783,  3180,  3124,\n",
       "        3679,  4167,  4406,  4372,  4417,  4553,  4061,  4085,  4452,\n",
       "        4327,  4295,  4228,  4125,  3811,  3903,  4097,  3795,  3771,\n",
       "        3836,  4065,  4150,  4123,  4356,  4872,  4907,  4429,  3966,\n",
       "        3737,  3589,  4161,  3939,  4030,  3759,  3606,  4027,  4106,\n",
       "        4169,  4455,  4419,  4169,  4027,  3851,  4006,  4179,  4054,\n",
       "        4254,  4550,  5058,  5260,  5399,  5420,  5220,  5324,  5235,\n",
       "        4924,  4148,  4092,  4242,  4331,  4551,  4502,  4486,  4269,\n",
       "        4070,  4319,  5071,  6138,  6073,  4620,  4089,  3987,  4763,\n",
       "        5178,  5423,  4836,  4627,  4696,  5328,  5371,  5069,  5017,\n",
       "        4914,  4739,  4405,  4577,  5143,  4683,  4745, 11056, 11536,\n",
       "       10059,  9774,  9952,  9416,  9858,  9942, 10428,  8647,  8605,\n",
       "        9514, 11316,  9394,  8834,  8818,  8122,  8220,  8794,  8908,\n",
       "        9445, 10237, 11246, 11592, 11136, 11879, 11783, 11158, 13518,\n",
       "       13311, 11723, 10666, 11629, 11448, 11493, 10719, 10961, 10155,\n",
       "        9927, 10316, 10244,  9344,  8747,  6142,  4459,  4466,  4973,\n",
       "        5229,  5657,  5891,  6514,  8425,  8557,  8489,  8392,  8674,\n",
       "        8926,  9028,  8814,  8979,  8825,  8715,  9197,  8686,  8784,\n",
       "        8904,  8562,  8691,  8542,  9151,  9459,  8147,  7768,  7400,\n",
       "        7801,  7902,  7798,  8042,  8909,  8454,  9356,  9441,  9219,\n",
       "        8641,  8261,  7904,  7941,  8407,  8575,  7881,  7590,  7569,\n",
       "        7788,  7052,  7057,  7461,  7190,  7248,  7413,  8141,  6797,\n",
       "        6628,  6677,  6332,  6306,  6358,  6405,  5822,  5505,  5896,\n",
       "        6168,  6871,  6743,  7050,  7541,  6320,  6617,  6691,  6788,\n",
       "        6678,  6085,  5497,  5227,  5859,  5817,  5541,  5387,  5526,\n",
       "        5546,  5597,  6452,  5353,  5114,  4844,  5061,  5120,  5219,\n",
       "        5143,  5089,  5044,  4816,  5031,  4924,  4810,  4758,  4968,\n",
       "        5365,  5166,  5541,  5083,  4468,  4688,  4646,  4420,  4337,\n",
       "        4344,  3880,  3765,  4148,  4723,  5202,  4717,  4440,  4024,\n",
       "        4064,  4624,  4609,  4585,  4337,  4192,  3952,  4095,  4724,\n",
       "        4708,  4846,  4992,  4919,  4796,  4918,  5395,  5235,  5147,\n",
       "        5034,  5079,  4585,  5019,  5553,  5358,  5534,  5430,  5219,\n",
       "        5564,  4816,  4881,  4746,  4398,  3871,  4044,  4191,  4629,\n",
       "        4804,  4947,  5816,  5584,  5796,  5271,  5273,  5875,  5969,\n",
       "        6202,  5976,  5656,  5185,  4885,  5339,  5055,  5618,  5037,\n",
       "        5290,  4952,  5209,  6092,  5206,  5123,  5365,  4928,  4633,\n",
       "        4489,  4842,  4694,  4573,  4378,  4803,  5304,  4940,  5503,\n",
       "        5331,  5056,  5190,  5390,  4735,  4722,  4965,  4727,  5844,\n",
       "        5119,  4694,  4669,  4151,  4693,  4404,  5054,  5518,  4857,\n",
       "        4411,  4513,  4773,  4804,  4311,  4105,  3859,  4015,  3646,\n",
       "        4250,  4448,  4509,  4256,  4511,  4335,  4288,  4702,  4591,\n",
       "        4680,  4543,  4327,  3930,  3781,  4179,  4510,  4401,  4320,\n",
       "        4124,  4265,  4475,  4194,  3933,  3779,  3821,  4059,  3595,\n",
       "        4025,  3902,  4122,  3960,  3128,  3301,  3412,  3557,  3935,\n",
       "        3666,  3821,  4167,  4450,  4243,  3938,  4159,  4302,  3749,\n",
       "        3986,  3704,  3212,  3596,  4215,  4408,  3634,  3560,  3354,\n",
       "        3064,  3188,  3303,  3559,  3872,  3539,  3627,  3146,  3471,\n",
       "        3816,  3820,  3739,  3722,  3645,  3674,  3663,  4174,  4332,\n",
       "        3687,  3758,  3823,  3493,  3627,  4230,  4001,  4043,  4324,\n",
       "        4816,  4099,  3908,  4248,  4310,  4406,  4282,  4465,  3920,\n",
       "        3925,  4729,  5054,  4777,  5355,  4568,  4319,  4486,  5098,\n",
       "        5286,  5595,  5147,  4803,  4429,  4496,  5032,  5111,  4845,\n",
       "        4933,  4820,  4734,  5136,  4798,  4884,  5011,  4904,  4715,\n",
       "        4349,  4403,  5011,  4812,  4754,  4636,  4181,  4294,  4870,\n",
       "        5321,  5246,  5350,  5296,  4911,  4683,  4472,  4639,  4702,\n",
       "        4367,  4608,  4852,  4335,  4213,  4758,  4824,  5667,  5030,\n",
       "        5040,  4301,  4217,  4753,  4748,  4499,  4375,  4414,  4219,\n",
       "        4523,  5360,  5235,  5653,  5488,  5771,  5162,  5420,  6089,\n",
       "        6011,  6737,  4040,  2574,  2613,  2997,  3583,  3385,  3623,\n",
       "        4021,  4592,  4724,  4036,  4395,  4327,  4406,  4780,  4266,\n",
       "        4409,  4607])"
      ]
     },
     "execution_count": 8,
     "metadata": {},
     "output_type": "execute_result"
    }
   ],
   "execution_count": 8
  },
  {
   "metadata": {
    "ExecuteTime": {
     "end_time": "2025-09-05T10:48:42.024769Z",
     "start_time": "2025-09-05T10:48:42.016418Z"
    }
   },
   "cell_type": "code",
   "source": "fin_data['train_mask'], len(fin_data['train_mask'])",
   "id": "8752ed0ae3f7cf51",
   "outputs": [
    {
     "data": {
      "text/plain": [
       "(array([2735458, 3025736, 2659385, ...,  572867, 3250251, 1337270]), 857899)"
      ]
     },
     "execution_count": 18,
     "metadata": {},
     "output_type": "execute_result"
    }
   ],
   "execution_count": 18
  },
  {
   "metadata": {
    "ExecuteTime": {
     "end_time": "2025-09-05T10:57:25.244172Z",
     "start_time": "2025-09-05T10:57:24.933502Z"
    }
   },
   "cell_type": "code",
   "source": [
    "import numpy as np\n",
    "\n",
    "# Load the data\n",
    "fin_data = np.load('/Users/ashfaqsalehin/Downloads/DGraphFin/dgraphfin.npz')\n",
    "\n",
    "print(\"=== Basic Info ===\")\n",
    "print(f\"x shape: {fin_data['x'].shape}\")\n",
    "print(f\"y shape: {fin_data['y'].shape}\")\n",
    "print(f\"edge_index shape: {fin_data['edge_index'].shape}\")\n",
    "\n",
    "print(\"\\n=== Train Mask Analysis ===\")\n",
    "train_mask = fin_data['train_mask']\n",
    "print(f\"train_mask shape: {train_mask.shape}\")\n",
    "print(f\"train_mask first 10 values: {train_mask[:10]}\")\n",
    "print(f\"train_mask min: {train_mask.min()}\")\n",
    "print(f\"train_mask max: {train_mask.max()}\")\n",
    "\n",
    "print(\"\\n=== Y Labels Analysis ===\")\n",
    "y = fin_data['y']\n",
    "print(f\"y min: {y.min()}\")\n",
    "print(f\"y max: {y.max()}\")\n",
    "print(f\"Node count: {len(y)}\")\n",
    "print(f\"Max possible index: {len(y) - 1}\")\n",
    "\n",
    "print(\"\\n=== Test: Are train_mask values valid indices for y? ===\")\n",
    "print(f\"All train_mask values < len(y)? {np.all(train_mask < len(y))}\")\n",
    "\n",
    "print(\"\\n=== Labels at train_mask positions ===\")\n",
    "labels_at_train_positions = y[train_mask[:10]]  # First 10\n",
    "print(f\"y[train_mask[:10]]: {labels_at_train_positions}\")\n",
    "\n",
    "print(\"\\n=== Class distribution in y ===\")\n",
    "unique, counts = np.unique(y, return_counts=True)\n",
    "for cls, count in zip(unique, counts):\n",
    "    print(f\"Class {cls}: {count:,} nodes\")\n",
    "\n",
    "print(\"\\n=== Class distribution in train split ===\")\n",
    "train_labels = y[train_mask]\n",
    "unique_train, counts_train = np.unique(train_labels, return_counts=True)\n",
    "for cls, count in zip(unique_train, counts_train):\n",
    "    print(f\"Train Class {cls}: {count:,} nodes\")"
   ],
   "id": "9937ddf196f9755e",
   "outputs": [
    {
     "name": "stdout",
     "output_type": "stream",
     "text": [
      "=== Basic Info ===\n",
      "x shape: (3700550, 17)\n",
      "y shape: (3700550,)\n",
      "edge_index shape: (4300999, 2)\n",
      "\n",
      "=== Train Mask Analysis ===\n",
      "train_mask shape: (857899,)\n",
      "train_mask first 10 values: [2735458 3025736 2659385 1031747   88412 1888230 2660095  960647 3030836\n",
      " 1209386]\n",
      "train_mask min: 7\n",
      "train_mask max: 3700541\n",
      "\n",
      "=== Y Labels Analysis ===\n",
      "y min: 0\n",
      "y max: 3\n",
      "Node count: 3700550\n",
      "Max possible index: 3700549\n",
      "\n",
      "=== Test: Are train_mask values valid indices for y? ===\n",
      "All train_mask values < len(y)? True\n",
      "\n",
      "=== Labels at train_mask positions ===\n",
      "y[train_mask[:10]]: [1 1 1 1 1 1 1 1 1 1]\n",
      "\n",
      "=== Class distribution in y ===\n",
      "Class 0: 1,210,092 nodes\n",
      "Class 1: 15,509 nodes\n",
      "Class 2: 1,620,851 nodes\n",
      "Class 3: 854,098 nodes\n",
      "\n",
      "=== Class distribution in train split ===\n",
      "Train Class 0: 847,042 nodes\n",
      "Train Class 1: 10,857 nodes\n"
     ]
    }
   ],
   "execution_count": 19
  },
  {
   "metadata": {},
   "cell_type": "code",
   "outputs": [],
   "execution_count": null,
   "source": "",
   "id": "884bc13f443a670f"
  }
 ],
 "metadata": {
  "kernelspec": {
   "display_name": "Python 3",
   "language": "python",
   "name": "python3"
  },
  "language_info": {
   "codemirror_mode": {
    "name": "ipython",
    "version": 2
   },
   "file_extension": ".py",
   "mimetype": "text/x-python",
   "name": "python",
   "nbconvert_exporter": "python",
   "pygments_lexer": "ipython2",
   "version": "2.7.6"
  }
 },
 "nbformat": 4,
 "nbformat_minor": 5
}
