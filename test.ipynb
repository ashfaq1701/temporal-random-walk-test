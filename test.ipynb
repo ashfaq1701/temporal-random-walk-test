{
 "cells": [
  {
   "cell_type": "code",
   "id": "initial_id",
   "metadata": {
    "collapsed": true,
    "ExecuteTime": {
     "end_time": "2025-05-06T20:15:54.029388Z",
     "start_time": "2025-05-06T20:15:54.026900Z"
    }
   },
   "source": "file_path = '/Volumes/EXTERNALHDD/traces_disk_2/final_data_files/data_1.parquet'",
   "outputs": [],
   "execution_count": 5
  },
  {
   "metadata": {
    "ExecuteTime": {
     "end_time": "2025-05-06T20:15:54.866498Z",
     "start_time": "2025-05-06T20:15:54.397468Z"
    }
   },
   "cell_type": "code",
   "source": [
    "import pandas as pd\n",
    "\n",
    "edges_df = pd.read_parquet(file_path)"
   ],
   "id": "97c854b0c6f08ba7",
   "outputs": [],
   "execution_count": 6
  },
  {
   "metadata": {
    "ExecuteTime": {
     "end_time": "2025-05-06T20:15:55.013164Z",
     "start_time": "2025-05-06T20:15:55.005909Z"
    }
   },
   "cell_type": "code",
   "source": "edges_df",
   "id": "6e07baa8684fa896",
   "outputs": [
    {
     "data": {
      "text/plain": [
       "             u      i      ts      idx   rt    0    1    2    3    4\n",
       "3797497  17684  18738   60000  3797498  1.0  0.0  0.0  1.0  0.0  0.0\n",
       "3797498  35482  19355   60000  3797499  0.0  0.0  0.0  0.0  0.0  1.0\n",
       "3797499  18679  59226   60000  3797500  1.0  0.0  0.0  1.0  0.0  0.0\n",
       "3797500  33545  14046   60000  3797501  0.0  0.0  0.0  1.0  0.0  0.0\n",
       "3797501    969  17869   60000  3797502  0.0  1.0  0.0  0.0  0.0  0.0\n",
       "...        ...    ...     ...      ...  ...  ...  ...  ...  ...  ...\n",
       "7393462  10077  35136  119999  7393463  0.0  0.0  0.0  1.0  0.0  0.0\n",
       "7393463  44631  44354  119999  7393464  1.0  0.0  0.0  0.0  0.0  1.0\n",
       "7393464  37176  37400  119999  7393465  1.0  0.0  0.0  1.0  0.0  0.0\n",
       "7393465  37106  22350  119999  7393466  0.0  1.0  0.0  0.0  0.0  0.0\n",
       "7393466  37106  17869  119999  7393467  0.0  1.0  0.0  0.0  0.0  0.0\n",
       "\n",
       "[3595970 rows x 10 columns]"
      ],
      "text/html": [
       "<div>\n",
       "<style scoped>\n",
       "    .dataframe tbody tr th:only-of-type {\n",
       "        vertical-align: middle;\n",
       "    }\n",
       "\n",
       "    .dataframe tbody tr th {\n",
       "        vertical-align: top;\n",
       "    }\n",
       "\n",
       "    .dataframe thead th {\n",
       "        text-align: right;\n",
       "    }\n",
       "</style>\n",
       "<table border=\"1\" class=\"dataframe\">\n",
       "  <thead>\n",
       "    <tr style=\"text-align: right;\">\n",
       "      <th></th>\n",
       "      <th>u</th>\n",
       "      <th>i</th>\n",
       "      <th>ts</th>\n",
       "      <th>idx</th>\n",
       "      <th>rt</th>\n",
       "      <th>0</th>\n",
       "      <th>1</th>\n",
       "      <th>2</th>\n",
       "      <th>3</th>\n",
       "      <th>4</th>\n",
       "    </tr>\n",
       "  </thead>\n",
       "  <tbody>\n",
       "    <tr>\n",
       "      <th>3797497</th>\n",
       "      <td>17684</td>\n",
       "      <td>18738</td>\n",
       "      <td>60000</td>\n",
       "      <td>3797498</td>\n",
       "      <td>1.0</td>\n",
       "      <td>0.0</td>\n",
       "      <td>0.0</td>\n",
       "      <td>1.0</td>\n",
       "      <td>0.0</td>\n",
       "      <td>0.0</td>\n",
       "    </tr>\n",
       "    <tr>\n",
       "      <th>3797498</th>\n",
       "      <td>35482</td>\n",
       "      <td>19355</td>\n",
       "      <td>60000</td>\n",
       "      <td>3797499</td>\n",
       "      <td>0.0</td>\n",
       "      <td>0.0</td>\n",
       "      <td>0.0</td>\n",
       "      <td>0.0</td>\n",
       "      <td>0.0</td>\n",
       "      <td>1.0</td>\n",
       "    </tr>\n",
       "    <tr>\n",
       "      <th>3797499</th>\n",
       "      <td>18679</td>\n",
       "      <td>59226</td>\n",
       "      <td>60000</td>\n",
       "      <td>3797500</td>\n",
       "      <td>1.0</td>\n",
       "      <td>0.0</td>\n",
       "      <td>0.0</td>\n",
       "      <td>1.0</td>\n",
       "      <td>0.0</td>\n",
       "      <td>0.0</td>\n",
       "    </tr>\n",
       "    <tr>\n",
       "      <th>3797500</th>\n",
       "      <td>33545</td>\n",
       "      <td>14046</td>\n",
       "      <td>60000</td>\n",
       "      <td>3797501</td>\n",
       "      <td>0.0</td>\n",
       "      <td>0.0</td>\n",
       "      <td>0.0</td>\n",
       "      <td>1.0</td>\n",
       "      <td>0.0</td>\n",
       "      <td>0.0</td>\n",
       "    </tr>\n",
       "    <tr>\n",
       "      <th>3797501</th>\n",
       "      <td>969</td>\n",
       "      <td>17869</td>\n",
       "      <td>60000</td>\n",
       "      <td>3797502</td>\n",
       "      <td>0.0</td>\n",
       "      <td>1.0</td>\n",
       "      <td>0.0</td>\n",
       "      <td>0.0</td>\n",
       "      <td>0.0</td>\n",
       "      <td>0.0</td>\n",
       "    </tr>\n",
       "    <tr>\n",
       "      <th>...</th>\n",
       "      <td>...</td>\n",
       "      <td>...</td>\n",
       "      <td>...</td>\n",
       "      <td>...</td>\n",
       "      <td>...</td>\n",
       "      <td>...</td>\n",
       "      <td>...</td>\n",
       "      <td>...</td>\n",
       "      <td>...</td>\n",
       "      <td>...</td>\n",
       "    </tr>\n",
       "    <tr>\n",
       "      <th>7393462</th>\n",
       "      <td>10077</td>\n",
       "      <td>35136</td>\n",
       "      <td>119999</td>\n",
       "      <td>7393463</td>\n",
       "      <td>0.0</td>\n",
       "      <td>0.0</td>\n",
       "      <td>0.0</td>\n",
       "      <td>1.0</td>\n",
       "      <td>0.0</td>\n",
       "      <td>0.0</td>\n",
       "    </tr>\n",
       "    <tr>\n",
       "      <th>7393463</th>\n",
       "      <td>44631</td>\n",
       "      <td>44354</td>\n",
       "      <td>119999</td>\n",
       "      <td>7393464</td>\n",
       "      <td>1.0</td>\n",
       "      <td>0.0</td>\n",
       "      <td>0.0</td>\n",
       "      <td>0.0</td>\n",
       "      <td>0.0</td>\n",
       "      <td>1.0</td>\n",
       "    </tr>\n",
       "    <tr>\n",
       "      <th>7393464</th>\n",
       "      <td>37176</td>\n",
       "      <td>37400</td>\n",
       "      <td>119999</td>\n",
       "      <td>7393465</td>\n",
       "      <td>1.0</td>\n",
       "      <td>0.0</td>\n",
       "      <td>0.0</td>\n",
       "      <td>1.0</td>\n",
       "      <td>0.0</td>\n",
       "      <td>0.0</td>\n",
       "    </tr>\n",
       "    <tr>\n",
       "      <th>7393465</th>\n",
       "      <td>37106</td>\n",
       "      <td>22350</td>\n",
       "      <td>119999</td>\n",
       "      <td>7393466</td>\n",
       "      <td>0.0</td>\n",
       "      <td>1.0</td>\n",
       "      <td>0.0</td>\n",
       "      <td>0.0</td>\n",
       "      <td>0.0</td>\n",
       "      <td>0.0</td>\n",
       "    </tr>\n",
       "    <tr>\n",
       "      <th>7393466</th>\n",
       "      <td>37106</td>\n",
       "      <td>17869</td>\n",
       "      <td>119999</td>\n",
       "      <td>7393467</td>\n",
       "      <td>0.0</td>\n",
       "      <td>1.0</td>\n",
       "      <td>0.0</td>\n",
       "      <td>0.0</td>\n",
       "      <td>0.0</td>\n",
       "      <td>0.0</td>\n",
       "    </tr>\n",
       "  </tbody>\n",
       "</table>\n",
       "<p>3595970 rows × 10 columns</p>\n",
       "</div>"
      ]
     },
     "execution_count": 7,
     "metadata": {},
     "output_type": "execute_result"
    }
   ],
   "execution_count": 7
  },
  {
   "metadata": {
    "ExecuteTime": {
     "end_time": "2025-05-06T20:35:01.624214Z",
     "start_time": "2025-05-06T20:35:00.910195Z"
    }
   },
   "cell_type": "code",
   "source": "edges_list = list(zip(edges_df['u'], edges_df['i'], edges_df['ts']))",
   "id": "cb8afea5a00c12ba",
   "outputs": [],
   "execution_count": 9
  },
  {
   "metadata": {
    "ExecuteTime": {
     "end_time": "2025-05-06T20:27:27.377125Z",
     "start_time": "2025-05-06T20:27:27.364128Z"
    }
   },
   "cell_type": "code",
   "source": [
    "from temporal_random_walk import TemporalRandomWalk\n",
    "\n",
    "temporal_random_walk = TemporalRandomWalk(is_directed=True, use_gpu=False)"
   ],
   "id": "e32de9bb9b3adff2",
   "outputs": [],
   "execution_count": 8
  },
  {
   "metadata": {
    "ExecuteTime": {
     "end_time": "2025-05-06T20:36:23.081063Z",
     "start_time": "2025-05-06T20:36:23.044198Z"
    }
   },
   "cell_type": "code",
   "source": [
    "from raphtory import Graph\n",
    "g = Graph()"
   ],
   "id": "fdc5559673d43c0f",
   "outputs": [],
   "execution_count": 10
  },
  {
   "metadata": {
    "ExecuteTime": {
     "end_time": "2025-05-06T20:37:28.053723Z",
     "start_time": "2025-05-06T20:37:27.616701Z"
    }
   },
   "cell_type": "code",
   "source": [
    "g.load_edges_from_pandas(\n",
    "    df=edges_df,\n",
    "    time=\"ts\",\n",
    "    src=\"u\",\n",
    "    dst=\"i\"\n",
    ")"
   ],
   "id": "bcd22c23b6135e47",
   "outputs": [
    {
     "data": {
      "text/plain": [
       "HBox(children=(HTML(value=''), IntProgress(value=0, max=3595970), HTML(value='')))"
      ],
      "application/vnd.jupyter.widget-view+json": {
       "version_major": 2,
       "version_minor": 0,
       "model_id": "9935569a63a3403f8c00494805c499b2"
      }
     },
     "metadata": {},
     "output_type": "display_data"
    }
   ],
   "execution_count": 13
  },
  {
   "metadata": {
    "ExecuteTime": {
     "end_time": "2025-05-06T20:37:32.223047Z",
     "start_time": "2025-05-06T20:37:30.655864Z"
    }
   },
   "cell_type": "code",
   "source": "temporal_random_walk.add_multiple_edges(edges_list)",
   "id": "b85da791bf028d13",
   "outputs": [],
   "execution_count": 14
  },
  {
   "metadata": {},
   "cell_type": "code",
   "outputs": [],
   "execution_count": null,
   "source": "",
   "id": "f8d12d8bb3724cbb"
  }
 ],
 "metadata": {
  "kernelspec": {
   "display_name": "Python 3",
   "language": "python",
   "name": "python3"
  },
  "language_info": {
   "codemirror_mode": {
    "name": "ipython",
    "version": 2
   },
   "file_extension": ".py",
   "mimetype": "text/x-python",
   "name": "python",
   "nbconvert_exporter": "python",
   "pygments_lexer": "ipython2",
   "version": "2.7.6"
  }
 },
 "nbformat": 4,
 "nbformat_minor": 5
}
